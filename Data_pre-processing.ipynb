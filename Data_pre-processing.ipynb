{
 "cells": [
  {
   "cell_type": "markdown",
   "metadata": {},
   "source": [
    "# Pre-processing File"
   ]
  },
  {
   "cell_type": "markdown",
   "metadata": {},
   "source": [
    "In this notebook, we will pre-process the given ATLAS data to compress the four-momentum of a sample of simulated particles from 4 to 3 variables via an autenconder."
   ]
  },
  {
   "cell_type": "markdown",
   "metadata": {},
   "source": [
    "## Extracting relevant data"
   ]
  },
  {
   "cell_type": "markdown",
   "metadata": {},
   "source": [
    "We iterate over the file line by line. <br>\n",
    "For each line we form a list of objects. <br>\n",
    "We extract the jet-particles objects from the list. <br>\n",
    "We split the jet-particles data into train and test data (80 : 20) <br>"
   ]
  },
  {
   "cell_type": "code",
   "execution_count": 1,
   "metadata": {},
   "outputs": [],
   "source": [
    "import pandas as pd\n",
    "\n",
    "# list to store jet particles\n",
    "jet_objects = []\n",
    "\n",
    "# open and iterate over file\n",
    "with open(\"monojet_Zp2000.0_DM_50.0_chan3.csv\", 'r') as f:\n",
    "    for line in f.readlines():\n",
    "        object_list = line.split(';')[5:-1] # get objects seperated by ';' in an event\n",
    "        for objects in object_list:\n",
    "            obj = objects.split(',')\n",
    "            if obj[0] == 'j': # check if object is jet-particle\n",
    "                j_obj = [float(x) for x in obj[1:]]\n",
    "                jet_objects.append(j_obj)"
   ]
  },
  {
   "cell_type": "code",
   "execution_count": 2,
   "metadata": {},
   "outputs": [],
   "source": [
    "import numpy as np\n",
    "\n",
    "# convert list to numpy array\n",
    "jet_objects = np.array(jet_objects)"
   ]
  },
  {
   "cell_type": "code",
   "execution_count": 3,
   "metadata": {},
   "outputs": [],
   "source": [
    "from sklearn.model_selection import train_test_split\n",
    "\n",
    "# split data into train and test with 80:20 ratio\n",
    "train, test = train_test_split(jet_objects, test_size = 0.2, shuffle = True, random_state = 42)"
   ]
  },
  {
   "cell_type": "code",
   "execution_count": 4,
   "metadata": {},
   "outputs": [
    {
     "name": "stdout",
     "output_type": "stream",
     "text": [
      "(22661, 4) (18128, 4) (4533, 4)\n"
     ]
    }
   ],
   "source": [
    "# view the shape of the original data, train and test data after split\n",
    "print(jet_objects.shape, train.shape, test.shape)"
   ]
  },
  {
   "cell_type": "markdown",
   "metadata": {},
   "source": [
    "## Visualize the data"
   ]
  },
  {
   "cell_type": "markdown",
   "metadata": {},
   "source": [
    "We convert the train and test data into dataframes. <br>\n",
    "We then visualize the 4 variables as histograms. <br>\n",
    "The x axis is the value of the variable and the y axis represents the number of events having that value for that variable. <br>\n",
    "We also look at some general statistics about the train and test data. <br>"
   ]
  },
  {
   "cell_type": "code",
   "execution_count": 5,
   "metadata": {},
   "outputs": [],
   "source": [
    "# forming dataframes\n",
    "train_jet_objects = pd.DataFrame(train, columns = ['E', 'pt', 'eta', 'phi'])\n",
    "test_jet_objects = pd.DataFrame(test, columns = ['E', 'pt', 'eta', 'phi'])"
   ]
  },
  {
   "cell_type": "code",
   "execution_count": 6,
   "metadata": {},
   "outputs": [
    {
     "data": {
      "image/png": "[encoded data removed]",
      "text/plain": [
       "<Figure size 432x288 with 1 Axes>"
      ]
     },
     "metadata": {
      "needs_background": "light"
     },
     "output_type": "display_data"
    },
    {
     "data": {
      "image/png": "[encoded data removed]",
      "text/plain": [
       "<Figure size 432x288 with 1 Axes>"
      ]
     },
     "metadata": {
      "needs_background": "light"
     },
     "output_type": "display_data"
    },
    {
     "data": {
      "image/png": "[encoded data removed]",
      "text/plain": [
       "<Figure size 432x288 with 1 Axes>"
      ]
     },
     "metadata": {
      "needs_background": "light"
     },
     "output_type": "display_data"
    },
    {
     "data": {
      "image/png": "[encoded data removed]",
      "text/plain": [
       "<Figure size 432x288 with 1 Axes>"
      ]
     },
     "metadata": {
      "needs_background": "light"
     },
     "output_type": "display_data"
    }
   ],
   "source": [
    "import matplotlib.pyplot as plt\n",
    "\n",
    "variable_list = [r'$pt$', r'$\\eta$', r'$\\phi$', r'$E$']\n",
    "\n",
    "branches=[\"pt\",\"eta\",\"phi\",\"E\"]\n",
    "\n",
    "n_bins = 100\n",
    "\n",
    "# creating histograms for each variable\n",
    "for kk in range(0,4):\n",
    "    n_hist_data, bin_edges, _ = plt.hist(train_jet_objects[branches[kk]], color='gray', label='Input', alpha=1, bins=n_bins)\n",
    "    plt.xlabel(xlabel=variable_list[kk])\n",
    "    plt.ylabel('# of events')\n",
    "    #plt.savefig(\"fourmomentum_\"+branches[kk],dpi=300)\n",
    "    plt.show()"
   ]
  },
  {
   "cell_type": "code",
   "execution_count": 7,
   "metadata": {},
   "outputs": [
    {
     "data": {
      "text/html": [
       "<div>\n",
       "<style scoped>\n",
       "    .dataframe tbody tr th:only-of-type {\n",
       "        vertical-align: middle;\n",
       "    }\n",
       "\n",
       "    .dataframe tbody tr th {\n",
       "        vertical-align: top;\n",
       "    }\n",
       "\n",
       "    .dataframe thead th {\n",
       "        text-align: right;\n",
       "    }\n",
       "</style>\n",
       "<table border=\"1\" class=\"dataframe\">\n",
       "  <thead>\n",
       "    <tr style=\"text-align: right;\">\n",
       "      <th></th>\n",
       "      <th>E</th>\n",
       "      <th>pt</th>\n",
       "      <th>eta</th>\n",
       "      <th>phi</th>\n",
       "    </tr>\n",
       "  </thead>\n",
       "  <tbody>\n",
       "    <tr>\n",
       "      <th>count</th>\n",
       "      <td>1.812800e+04</td>\n",
       "      <td>1.812800e+04</td>\n",
       "      <td>18128.000000</td>\n",
       "      <td>18128.000000</td>\n",
       "    </tr>\n",
       "    <tr>\n",
       "      <th>mean</th>\n",
       "      <td>4.355335e+05</td>\n",
       "      <td>2.417419e+05</td>\n",
       "      <td>0.014890</td>\n",
       "      <td>-0.013126</td>\n",
       "    </tr>\n",
       "    <tr>\n",
       "      <th>std</th>\n",
       "      <td>4.279418e+05</td>\n",
       "      <td>2.657371e+05</td>\n",
       "      <td>1.499743</td>\n",
       "      <td>1.810871</td>\n",
       "    </tr>\n",
       "    <tr>\n",
       "      <th>min</th>\n",
       "      <td>2.437580e+04</td>\n",
       "      <td>2.208650e+04</td>\n",
       "      <td>-4.870110</td>\n",
       "      <td>-3.141560</td>\n",
       "    </tr>\n",
       "    <tr>\n",
       "      <th>25%</th>\n",
       "      <td>1.176178e+05</td>\n",
       "      <td>4.760157e+04</td>\n",
       "      <td>-0.951571</td>\n",
       "      <td>-1.588512</td>\n",
       "    </tr>\n",
       "    <tr>\n",
       "      <th>50%</th>\n",
       "      <td>2.927205e+05</td>\n",
       "      <td>1.227590e+05</td>\n",
       "      <td>0.011900</td>\n",
       "      <td>-0.004561</td>\n",
       "    </tr>\n",
       "    <tr>\n",
       "      <th>75%</th>\n",
       "      <td>6.254612e+05</td>\n",
       "      <td>3.653140e+05</td>\n",
       "      <td>0.984084</td>\n",
       "      <td>1.534535</td>\n",
       "    </tr>\n",
       "    <tr>\n",
       "      <th>max</th>\n",
       "      <td>4.413680e+06</td>\n",
       "      <td>2.073990e+06</td>\n",
       "      <td>4.753080</td>\n",
       "      <td>3.141210</td>\n",
       "    </tr>\n",
       "  </tbody>\n",
       "</table>\n",
       "</div>"
      ],
      "text/plain": [
       "                  E            pt           eta           phi\n",
       "count  1.812800e+04  1.812800e+04  18128.000000  18128.000000\n",
       "mean   4.355335e+05  2.417419e+05      0.014890     -0.013126\n",
       "std    4.279418e+05  2.657371e+05      1.499743      1.810871\n",
       "min    2.437580e+04  2.208650e+04     -4.870110     -3.141560\n",
       "25%    1.176178e+05  4.760157e+04     -0.951571     -1.588512\n",
       "50%    2.927205e+05  1.227590e+05      0.011900     -0.004561\n",
       "75%    6.254612e+05  3.653140e+05      0.984084      1.534535\n",
       "max    4.413680e+06  2.073990e+06      4.753080      3.141210"
      ]
     },
     "execution_count": 7,
     "metadata": {},
     "output_type": "execute_result"
    }
   ],
   "source": [
    "# statistics about train data\n",
    "train_jet_objects.describe()"
   ]
  },
  {
   "cell_type": "code",
   "execution_count": 8,
   "metadata": {},
   "outputs": [
    {
     "data": {
      "text/html": [
       "<div>\n",
       "<style scoped>\n",
       "    .dataframe tbody tr th:only-of-type {\n",
       "        vertical-align: middle;\n",
       "    }\n",
       "\n",
       "    .dataframe tbody tr th {\n",
       "        vertical-align: top;\n",
       "    }\n",
       "\n",
       "    .dataframe thead th {\n",
       "        text-align: right;\n",
       "    }\n",
       "</style>\n",
       "<table border=\"1\" class=\"dataframe\">\n",
       "  <thead>\n",
       "    <tr style=\"text-align: right;\">\n",
       "      <th></th>\n",
       "      <th>E</th>\n",
       "      <th>pt</th>\n",
       "      <th>eta</th>\n",
       "      <th>phi</th>\n",
       "    </tr>\n",
       "  </thead>\n",
       "  <tbody>\n",
       "    <tr>\n",
       "      <th>count</th>\n",
       "      <td>4.533000e+03</td>\n",
       "      <td>4.533000e+03</td>\n",
       "      <td>4533.000000</td>\n",
       "      <td>4533.000000</td>\n",
       "    </tr>\n",
       "    <tr>\n",
       "      <th>mean</th>\n",
       "      <td>4.344664e+05</td>\n",
       "      <td>2.398742e+05</td>\n",
       "      <td>0.000370</td>\n",
       "      <td>-0.009439</td>\n",
       "    </tr>\n",
       "    <tr>\n",
       "      <th>std</th>\n",
       "      <td>4.196806e+05</td>\n",
       "      <td>2.679432e+05</td>\n",
       "      <td>1.531436</td>\n",
       "      <td>1.808224</td>\n",
       "    </tr>\n",
       "    <tr>\n",
       "      <th>min</th>\n",
       "      <td>2.490270e+04</td>\n",
       "      <td>2.257920e+04</td>\n",
       "      <td>-4.760080</td>\n",
       "      <td>-3.141360</td>\n",
       "    </tr>\n",
       "    <tr>\n",
       "      <th>25%</th>\n",
       "      <td>1.201160e+05</td>\n",
       "      <td>4.696520e+04</td>\n",
       "      <td>-0.972851</td>\n",
       "      <td>-1.568540</td>\n",
       "    </tr>\n",
       "    <tr>\n",
       "      <th>50%</th>\n",
       "      <td>2.851420e+05</td>\n",
       "      <td>1.177270e+05</td>\n",
       "      <td>0.027528</td>\n",
       "      <td>-0.014145</td>\n",
       "    </tr>\n",
       "    <tr>\n",
       "      <th>75%</th>\n",
       "      <td>6.280880e+05</td>\n",
       "      <td>3.589980e+05</td>\n",
       "      <td>1.005710</td>\n",
       "      <td>1.582480</td>\n",
       "    </tr>\n",
       "    <tr>\n",
       "      <th>max</th>\n",
       "      <td>3.090610e+06</td>\n",
       "      <td>2.090860e+06</td>\n",
       "      <td>4.692470</td>\n",
       "      <td>3.140110</td>\n",
       "    </tr>\n",
       "  </tbody>\n",
       "</table>\n",
       "</div>"
      ],
      "text/plain": [
       "                  E            pt          eta          phi\n",
       "count  4.533000e+03  4.533000e+03  4533.000000  4533.000000\n",
       "mean   4.344664e+05  2.398742e+05     0.000370    -0.009439\n",
       "std    4.196806e+05  2.679432e+05     1.531436     1.808224\n",
       "min    2.490270e+04  2.257920e+04    -4.760080    -3.141360\n",
       "25%    1.201160e+05  4.696520e+04    -0.972851    -1.568540\n",
       "50%    2.851420e+05  1.177270e+05     0.027528    -0.014145\n",
       "75%    6.280880e+05  3.589980e+05     1.005710     1.582480\n",
       "max    3.090610e+06  2.090860e+06     4.692470     3.140110"
      ]
     },
     "execution_count": 8,
     "metadata": {},
     "output_type": "execute_result"
    }
   ],
   "source": [
    "# statistics about test data\n",
    "test_jet_objects.describe()"
   ]
  },
  {
   "cell_type": "markdown",
   "metadata": {},
   "source": [
    "## Normalization"
   ]
  },
  {
   "cell_type": "markdown",
   "metadata": {},
   "source": [
    "We normalize the variables as follows:\n",
    "<ul>\n",
    "    <li>we take log base 10 of E, i.e., E => log10(E)</li>\n",
    "    <li>we take log base 10 of pt, i.e., pt => log10(pt)</li>\n",
    "    <li>we divide eta by 3, i.e., eta => eta/3</li>\n",
    "    <li>we divide phi by 3, i.e., phi => phi/3</li>\n",
    "</ul>\n",
    "We then visualize the normalized variables as histograms. <br>\n",
    "The x axis is the normalized value of the variable and the y axis represents the number of events having that value for that variable. <br>\n",
    "We also look at some general statistics about the normalized train and test data. <br>"
   ]
  },
  {
   "cell_type": "code",
   "execution_count": 9,
   "metadata": {},
   "outputs": [],
   "source": [
    "# function to perform normalization\n",
    "def normalize_df(df):\n",
    "    df[\"E\"] = np.log10(df[\"E\"].values)\n",
    "    df[\"pt\"] = np.log10(df[\"pt\"].values)\n",
    "    df[\"eta\"] = df[\"eta\"]/3\n",
    "    df[\"phi\"] = df[\"phi\"]/3"
   ]
  },
  {
   "cell_type": "code",
   "execution_count": 10,
   "metadata": {},
   "outputs": [],
   "source": [
    "# normalizing the train and test dataframes\n",
    "normalize_df(train_jet_objects)\n",
    "normalize_df(test_jet_objects)"
   ]
  },
  {
   "cell_type": "code",
   "execution_count": 11,
   "metadata": {},
   "outputs": [
    {
     "data": {
      "image/png": "[encoded data removed]",
      "text/plain": [
       "<Figure size 432x288 with 1 Axes>"
      ]
     },
     "metadata": {
      "needs_background": "light"
     },
     "output_type": "display_data"
    },
    {
     "data": {
      "image/png": "[encoded data removed]",
      "text/plain": [
       "<Figure size 432x288 with 1 Axes>"
      ]
     },
     "metadata": {
      "needs_background": "light"
     },
     "output_type": "display_data"
    },
    {
     "data": {
      "image/png": "[encoded data removed]",
      "text/plain": [
       "<Figure size 432x288 with 1 Axes>"
      ]
     },
     "metadata": {
      "needs_background": "light"
     },
     "output_type": "display_data"
    },
    {
     "data": {
      "image/png": "[encoded data removed]",
      "text/plain": [
       "<Figure size 432x288 with 1 Axes>"
      ]
     },
     "metadata": {
      "needs_background": "light"
     },
     "output_type": "display_data"
    }
   ],
   "source": [
    "import matplotlib.pyplot as plt\n",
    "\n",
    "unit_list = ['[log(GeV)]', '[rad/3]', '[rad/3]', '[log(GeV)]']\n",
    "variable_list = [r'$pt$', r'$\\eta$', r'$\\phi$', r'$E$']\n",
    "\n",
    "branches=[\"pt\",\"eta\",\"phi\",\"E\"]\n",
    "\n",
    "n_bins = 100\n",
    "\n",
    "# creating histograms for each normalized variable\n",
    "for kk in range(0,4):\n",
    "    n_hist_data, bin_edges, _ = plt.hist(train_jet_objects[branches[kk]], color='gray', label='Input', alpha=1, bins=n_bins)\n",
    "    plt.xlabel(xlabel=variable_list[kk] + ' ' + unit_list[kk])\n",
    "    plt.ylabel('# of events')\n",
    "    #plt.savefig(\"fourmomentum_\"+branches[kk],dpi=300)\n",
    "    plt.show()"
   ]
  },
  {
   "cell_type": "code",
   "execution_count": 12,
   "metadata": {
    "scrolled": true
   },
   "outputs": [
    {
     "data": {
      "text/html": [
       "<div>\n",
       "<style scoped>\n",
       "    .dataframe tbody tr th:only-of-type {\n",
       "        vertical-align: middle;\n",
       "    }\n",
       "\n",
       "    .dataframe tbody tr th {\n",
       "        vertical-align: top;\n",
       "    }\n",
       "\n",
       "    .dataframe thead th {\n",
       "        text-align: right;\n",
       "    }\n",
       "</style>\n",
       "<table border=\"1\" class=\"dataframe\">\n",
       "  <thead>\n",
       "    <tr style=\"text-align: right;\">\n",
       "      <th></th>\n",
       "      <th>E</th>\n",
       "      <th>pt</th>\n",
       "      <th>eta</th>\n",
       "      <th>phi</th>\n",
       "    </tr>\n",
       "  </thead>\n",
       "  <tbody>\n",
       "    <tr>\n",
       "      <th>count</th>\n",
       "      <td>18128.000000</td>\n",
       "      <td>18128.000000</td>\n",
       "      <td>18128.000000</td>\n",
       "      <td>18128.000000</td>\n",
       "    </tr>\n",
       "    <tr>\n",
       "      <th>mean</th>\n",
       "      <td>5.425894</td>\n",
       "      <td>5.122111</td>\n",
       "      <td>0.004963</td>\n",
       "      <td>-0.004375</td>\n",
       "    </tr>\n",
       "    <tr>\n",
       "      <th>std</th>\n",
       "      <td>0.459861</td>\n",
       "      <td>0.491362</td>\n",
       "      <td>0.499914</td>\n",
       "      <td>0.603624</td>\n",
       "    </tr>\n",
       "    <tr>\n",
       "      <th>min</th>\n",
       "      <td>4.386959</td>\n",
       "      <td>4.344127</td>\n",
       "      <td>-1.623370</td>\n",
       "      <td>-1.047187</td>\n",
       "    </tr>\n",
       "    <tr>\n",
       "      <th>25%</th>\n",
       "      <td>5.070473</td>\n",
       "      <td>4.677621</td>\n",
       "      <td>-0.317190</td>\n",
       "      <td>-0.529504</td>\n",
       "    </tr>\n",
       "    <tr>\n",
       "      <th>50%</th>\n",
       "      <td>5.466453</td>\n",
       "      <td>5.089053</td>\n",
       "      <td>0.003967</td>\n",
       "      <td>-0.001520</td>\n",
       "    </tr>\n",
       "    <tr>\n",
       "      <th>75%</th>\n",
       "      <td>5.796200</td>\n",
       "      <td>5.562666</td>\n",
       "      <td>0.328028</td>\n",
       "      <td>0.511512</td>\n",
       "    </tr>\n",
       "    <tr>\n",
       "      <th>max</th>\n",
       "      <td>6.644801</td>\n",
       "      <td>6.316807</td>\n",
       "      <td>1.584360</td>\n",
       "      <td>1.047070</td>\n",
       "    </tr>\n",
       "  </tbody>\n",
       "</table>\n",
       "</div>"
      ],
      "text/plain": [
       "                  E            pt           eta           phi\n",
       "count  18128.000000  18128.000000  18128.000000  18128.000000\n",
       "mean       5.425894      5.122111      0.004963     -0.004375\n",
       "std        0.459861      0.491362      0.499914      0.603624\n",
       "min        4.386959      4.344127     -1.623370     -1.047187\n",
       "25%        5.070473      4.677621     -0.317190     -0.529504\n",
       "50%        5.466453      5.089053      0.003967     -0.001520\n",
       "75%        5.796200      5.562666      0.328028      0.511512\n",
       "max        6.644801      6.316807      1.584360      1.047070"
      ]
     },
     "execution_count": 12,
     "metadata": {},
     "output_type": "execute_result"
    }
   ],
   "source": [
    "# statistics about normalized train data\n",
    "train_jet_objects.describe()"
   ]
  },
  {
   "cell_type": "code",
   "execution_count": 13,
   "metadata": {},
   "outputs": [
    {
     "data": {
      "text/html": [
       "<div>\n",
       "<style scoped>\n",
       "    .dataframe tbody tr th:only-of-type {\n",
       "        vertical-align: middle;\n",
       "    }\n",
       "\n",
       "    .dataframe tbody tr th {\n",
       "        vertical-align: top;\n",
       "    }\n",
       "\n",
       "    .dataframe thead th {\n",
       "        text-align: right;\n",
       "    }\n",
       "</style>\n",
       "<table border=\"1\" class=\"dataframe\">\n",
       "  <thead>\n",
       "    <tr style=\"text-align: right;\">\n",
       "      <th></th>\n",
       "      <th>E</th>\n",
       "      <th>pt</th>\n",
       "      <th>eta</th>\n",
       "      <th>phi</th>\n",
       "    </tr>\n",
       "  </thead>\n",
       "  <tbody>\n",
       "    <tr>\n",
       "      <th>count</th>\n",
       "      <td>4533.000000</td>\n",
       "      <td>4533.000000</td>\n",
       "      <td>4533.000000</td>\n",
       "      <td>4533.000000</td>\n",
       "    </tr>\n",
       "    <tr>\n",
       "      <th>mean</th>\n",
       "      <td>5.428397</td>\n",
       "      <td>5.114926</td>\n",
       "      <td>0.000123</td>\n",
       "      <td>-0.003146</td>\n",
       "    </tr>\n",
       "    <tr>\n",
       "      <th>std</th>\n",
       "      <td>0.455450</td>\n",
       "      <td>0.492372</td>\n",
       "      <td>0.510479</td>\n",
       "      <td>0.602741</td>\n",
       "    </tr>\n",
       "    <tr>\n",
       "      <th>min</th>\n",
       "      <td>4.396246</td>\n",
       "      <td>4.353709</td>\n",
       "      <td>-1.586693</td>\n",
       "      <td>-1.047120</td>\n",
       "    </tr>\n",
       "    <tr>\n",
       "      <th>25%</th>\n",
       "      <td>5.079601</td>\n",
       "      <td>4.671776</td>\n",
       "      <td>-0.324284</td>\n",
       "      <td>-0.522847</td>\n",
       "    </tr>\n",
       "    <tr>\n",
       "      <th>50%</th>\n",
       "      <td>5.455061</td>\n",
       "      <td>5.070876</td>\n",
       "      <td>0.009176</td>\n",
       "      <td>-0.004715</td>\n",
       "    </tr>\n",
       "    <tr>\n",
       "      <th>75%</th>\n",
       "      <td>5.798020</td>\n",
       "      <td>5.555092</td>\n",
       "      <td>0.335237</td>\n",
       "      <td>0.527493</td>\n",
       "    </tr>\n",
       "    <tr>\n",
       "      <th>max</th>\n",
       "      <td>6.490044</td>\n",
       "      <td>6.320325</td>\n",
       "      <td>1.564157</td>\n",
       "      <td>1.046703</td>\n",
       "    </tr>\n",
       "  </tbody>\n",
       "</table>\n",
       "</div>"
      ],
      "text/plain": [
       "                 E           pt          eta          phi\n",
       "count  4533.000000  4533.000000  4533.000000  4533.000000\n",
       "mean      5.428397     5.114926     0.000123    -0.003146\n",
       "std       0.455450     0.492372     0.510479     0.602741\n",
       "min       4.396246     4.353709    -1.586693    -1.047120\n",
       "25%       5.079601     4.671776    -0.324284    -0.522847\n",
       "50%       5.455061     5.070876     0.009176    -0.004715\n",
       "75%       5.798020     5.555092     0.335237     0.527493\n",
       "max       6.490044     6.320325     1.564157     1.046703"
      ]
     },
     "execution_count": 13,
     "metadata": {},
     "output_type": "execute_result"
    }
   ],
   "source": [
    "# statistics about normalized test data\n",
    "test_jet_objects.describe()"
   ]
  },
  {
   "cell_type": "markdown",
   "metadata": {},
   "source": [
    "## Pickle and store data"
   ]
  },
  {
   "cell_type": "markdown",
   "metadata": {},
   "source": [
    "We pickle the store the dataframes into .pkl files"
   ]
  },
  {
   "cell_type": "code",
   "execution_count": 14,
   "metadata": {},
   "outputs": [],
   "source": [
    "import pickle as pkl\n",
    "\n",
    "with open(\"train_jet_objects.pkl\", \"wb\") as f:\n",
    "    pkl.dump(train_jet_objects,f)\n",
    "\n",
    "with open(\"test_jet_objects.pkl\", \"wb\") as f:\n",
    "    pkl.dump(test_jet_objects,f)"
   ]
  }
 ],
 "metadata": {
  "kernelspec": {
   "display_name": "Python [conda env:machine_learning]",
   "language": "python",
   "name": "conda-env-machine_learning-py"
  },
  "language_info": {
   "codemirror_mode": {
    "name": "ipython",
    "version": 3
   },
   "file_extension": ".py",
   "mimetype": "text/x-python",
   "name": "python",
   "nbconvert_exporter": "python",
   "pygments_lexer": "ipython3",
   "version": "3.6.9"
  }
 },
 "nbformat": 4,
 "nbformat_minor": 2
}
