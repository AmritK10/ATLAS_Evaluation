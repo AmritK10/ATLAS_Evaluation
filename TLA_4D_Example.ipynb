{
 "cells": [
  {
   "cell_type": "markdown",
   "metadata": {},
   "source": [
    "In this notebook, we will run a ready-made network starting from some ATLAS data, which is already normalized. There is also an alternative to train the network from scratch.  "
   ]
  },
  {
   "cell_type": "markdown",
   "metadata": {},
   "source": [
    "## Look into the dataset"
   ]
  },
  {
   "cell_type": "markdown",
   "metadata": {},
   "source": [
    "First we need to make sure that Python 3.8 is used in the notebook. It is required in order to open this certain .pkl-file. "
   ]
  },
  {
   "cell_type": "code",
   "execution_count": 1,
   "metadata": {},
   "outputs": [
    {
     "data": {
      "text/plain": [
       "'3.8.8 (default, Feb 24 2021, 13:46:16) \\n[Clang 10.0.0 ]'"
      ]
     },
     "execution_count": 1,
     "metadata": {},
     "output_type": "execute_result"
    }
   ],
   "source": [
    "import sys\n",
    "sys.version"
   ]
  },
  {
   "cell_type": "markdown",
   "metadata": {},
   "source": [
    "We take a pickle dataset, and open into Pandas (after importing pandas). Note that you have to change the paths to the directory where your processed files are. "
   ]
  },
  {
   "cell_type": "code",
   "execution_count": 2,
   "metadata": {},
   "outputs": [
    {
     "name": "stdout",
     "output_type": "stream",
     "text": [
      "Training sample:\n",
      "          E        pt       eta       phi\n",
      "0  4.906713  4.700341 -0.349047 -0.590943\n",
      "1  6.347139  5.855345  0.599470 -1.025347\n",
      "2  5.997825  5.637058  0.490727 -0.623413\n",
      "3  5.372660  4.761313  0.694790  0.697643\n",
      "4  5.797168  5.707606 -0.218154  0.219345\n",
      "\n",
      "\n",
      "Testing sample:\n",
      "          E        pt       eta       phi\n",
      "0  5.154570  4.361824 -0.837267  0.611330\n",
      "1  5.669887  5.194112  0.585920 -0.487810\n",
      "2  5.136172  4.816144 -0.455033  0.025235\n",
      "3  5.028673  4.574284  0.568423 -0.929800\n",
      "4  6.243935  4.664594 -1.443177 -0.803610\n",
      "\n",
      "\n",
      "The number of entries in the training data: 18128\n",
      "The number of entries in the validation data: 4533\n"
     ]
    }
   ],
   "source": [
    "import pandas as pd\n",
    "\n",
    "# Change these paths to point to where you have stored the datasets. \n",
    "train_path = 'train_jet_objects.pkl'\n",
    "test_path = 'test_jet_objects.pkl'\n",
    "\n",
    "# Reads the .pkl-files with Pandas\n",
    "train = pd.read_pickle(train_path)\n",
    "test = pd.read_pickle(test_path)\n",
    "\n",
    "# To get an idea of the order of magnitude we are going to see in the plots we show the first elements \n",
    "# in the samples:\n",
    "print('Training sample:')\n",
    "print(train.head())\n",
    "\n",
    "print('\\n')\n",
    "\n",
    "print('Testing sample:')\n",
    "print(test.head())\n",
    "\n",
    "print('\\n')\n",
    "\n",
    "print('The number of entries in the training data:', len(train))\n",
    "print('The number of entries in the validation data:', len(test))"
   ]
  },
  {
   "cell_type": "markdown",
   "metadata": {},
   "source": [
    "Now we plot the data using the matplotlib library. The units reflect the normalization, but it's the shape that we care about. "
   ]
  },
  {
   "cell_type": "code",
   "execution_count": 3,
   "metadata": {},
   "outputs": [
    {
     "data": {
      "image/png": "[encoded data removed]",
      "text/plain": [
       "<Figure size 432x288 with 1 Axes>"
      ]
     },
     "metadata": {
      "needs_background": "light"
     },
     "output_type": "display_data"
    },
    {
     "data": {
      "image/png": "[encoded data removed]",
      "text/plain": [
       "<Figure size 432x288 with 1 Axes>"
      ]
     },
     "metadata": {
      "needs_background": "light"
     },
     "output_type": "display_data"
    },
    {
     "data": {
      "image/png": "[encoded data removed]",
      "text/plain": [
       "<Figure size 432x288 with 1 Axes>"
      ]
     },
     "metadata": {
      "needs_background": "light"
     },
     "output_type": "display_data"
    },
    {
     "data": {
      "image/png": "[encoded data removed]",
      "text/plain": [
       "<Figure size 432x288 with 1 Axes>"
      ]
     },
     "metadata": {
      "needs_background": "light"
     },
     "output_type": "display_data"
    }
   ],
   "source": [
    "import matplotlib.pyplot as plt\n",
    "\n",
    "unit_list = ['[log(GeV)]', '[rad/3]', '[rad/3]', '[log(GeV)]']\n",
    "variable_list = [r'$pt$', r'$\\eta$', r'$\\phi$', r'$E$'] # replace m with E\n",
    "\n",
    "branches=[\"pt\",\"eta\",\"phi\",\"E\"] # replace m with E\n",
    "\n",
    "n_bins = 200\n",
    "\n",
    "for kk in range(0,4):\n",
    "    n_hist_data, bin_edges, _ = plt.hist(train[branches[kk]], color='gray', label='Input', alpha=1, bins=n_bins)\n",
    "    plt.xlabel(xlabel=variable_list[kk] + ' ' + unit_list[kk])\n",
    "    plt.ylabel('# of events')\n",
    "    plt.yscale('log')\n",
    "    #plt.savefig(\"fourmomentum_\"+branches[kk],dpi=300)\n",
    "    plt.show()"
   ]
  },
  {
   "cell_type": "markdown",
   "metadata": {},
   "source": [
    "## Setting up the network"
   ]
  },
  {
   "cell_type": "markdown",
   "metadata": {},
   "source": [
    "### Preparing the data"
   ]
  },
  {
   "cell_type": "markdown",
   "metadata": {},
   "source": [
    "Adding the two datasets as TensorDatasets to PyTorch (also loading all other classes we'll need later)"
   ]
  },
  {
   "cell_type": "code",
   "execution_count": 4,
   "metadata": {},
   "outputs": [],
   "source": [
    "import torch\n",
    "import torch.nn as nn\n",
    "import torch.optim as optim\n",
    "import torch.utils.data\n",
    "from torch.autograd import Variable\n",
    "\n",
    "from torch.utils.data import TensorDataset\n",
    "from torch.utils.data import DataLoader\n",
    "\n",
    "from fastai import learner\n",
    "from fastai.data import core\n",
    "\n",
    "train_x = train\n",
    "test_x = test\n",
    "train_y = train_x  # y = x since we are building an autoencoder\n",
    "test_y = test_x\n",
    "\n",
    "# Constructs a tensor object of the data and wraps them in a TensorDataset object.\n",
    "train_ds = TensorDataset(torch.tensor(train_x.values, dtype=torch.float), torch.tensor(train_y.values, dtype=torch.float))\n",
    "valid_ds = TensorDataset(torch.tensor(test_x.values, dtype=torch.float), torch.tensor(test_y.values, dtype=torch.float))\n"
   ]
  },
  {
   "cell_type": "markdown",
   "metadata": {},
   "source": [
    "We now set things up to load the data, and we use a batch size that was optimized by previous students...note also that this is fastai v2, migration thanks to Jessica Lastow."
   ]
  },
  {
   "cell_type": "code",
   "execution_count": 5,
   "metadata": {},
   "outputs": [],
   "source": [
    "bs = 256\n",
    "\n",
    "# Converts the TensorDataset into a DataLoader object and combines into one DataLoaders object (a basic wrapper\n",
    "# around several DataLoader objects). \n",
    "train_dl = DataLoader(train_ds, batch_size=bs, shuffle=True)\n",
    "valid_dl = DataLoader(valid_ds, batch_size=bs * 2)\n",
    "dls = core.DataLoaders(train_dl, valid_dl)"
   ]
  },
  {
   "cell_type": "markdown",
   "metadata": {},
   "source": [
    "### Preparing the network"
   ]
  },
  {
   "cell_type": "markdown",
   "metadata": {},
   "source": [
    "Here we have an example network. Details aren't too important, as long as they match what was already trained for us...in this case we have a LeakyReLU, tanh activation function, and a number of layers that goes from 4 to 200 to 20 to 3 (number of features in the hidden layer that we pick for testing compression) and then back all the way to 4. "
   ]
  },
  {
   "cell_type": "code",
   "execution_count": 6,
   "metadata": {},
   "outputs": [
    {
     "data": {
      "text/plain": [
       "AE_3D_200_LeakyReLU(\n",
       "  (en1): Linear(in_features=4, out_features=200, bias=True)\n",
       "  (en2): Linear(in_features=200, out_features=200, bias=True)\n",
       "  (en3): Linear(in_features=200, out_features=20, bias=True)\n",
       "  (en4): Linear(in_features=20, out_features=3, bias=True)\n",
       "  (de1): Linear(in_features=3, out_features=20, bias=True)\n",
       "  (de2): Linear(in_features=20, out_features=200, bias=True)\n",
       "  (de3): Linear(in_features=200, out_features=200, bias=True)\n",
       "  (de4): Linear(in_features=200, out_features=4, bias=True)\n",
       "  (tanh): Tanh()\n",
       ")"
      ]
     },
     "execution_count": 6,
     "metadata": {},
     "output_type": "execute_result"
    }
   ],
   "source": [
    "class AE_3D_200_LeakyReLU(nn.Module):\n",
    "    def __init__(self, n_features=4):\n",
    "        super(AE_3D_200_LeakyReLU, self).__init__()\n",
    "        self.en1 = nn.Linear(n_features, 200)\n",
    "        self.en2 = nn.Linear(200, 200)\n",
    "        self.en3 = nn.Linear(200, 20)\n",
    "        self.en4 = nn.Linear(20, 3)\n",
    "        self.de1 = nn.Linear(3, 20)\n",
    "        self.de2 = nn.Linear(20, 200)\n",
    "        self.de3 = nn.Linear(200, 200)\n",
    "        self.de4 = nn.Linear(200, n_features)\n",
    "        self.tanh = nn.Tanh()\n",
    "\n",
    "    def encode(self, x):\n",
    "        return self.en4(self.tanh(self.en3(self.tanh(self.en2(self.tanh(self.en1(x)))))))\n",
    "\n",
    "    def decode(self, x):\n",
    "        return self.de4(self.tanh(self.de3(self.tanh(self.de2(self.tanh(self.de1(self.tanh(x))))))))\n",
    "\n",
    "    def forward(self, x):\n",
    "        z = self.encode(x)\n",
    "        return self.decode(z)\n",
    "\n",
    "    def describe(self):\n",
    "        return 'in-200-200-20-3-20-200-200-out'\n",
    "\n",
    "#model = AE_3D_200_LeakyReLU().double()\n",
    "model = AE_3D_200_LeakyReLU()\n",
    "model.to('cpu')"
   ]
  },
  {
   "cell_type": "markdown",
   "metadata": {},
   "source": [
    "We now have to pick a loss function - MSE loss is appropriate for a compression autoencoder since it reflects the [(input-output)/input] physical quantity that we want to minimize. "
   ]
  },
  {
   "cell_type": "code",
   "execution_count": 7,
   "metadata": {},
   "outputs": [],
   "source": [
    "from fastai.metrics import mse\n",
    "\n",
    "loss_func = nn.MSELoss()\n",
    "\n",
    "#bn_wd = False  # Don't use weight decay for batchnorm layers\n",
    "#true_wd = True  # weight decay will be used for all optimizers\n",
    "wd = 1e-6\n",
    "\n",
    "recorder = learner.Recorder()\n",
    "learn = learner.Learner(dls, model=model, wd=wd, loss_func=loss_func, cbs=recorder)\n",
    "#was: learn = basic_train.Learner(data=db, model=model, loss_func=loss_func, wd=wd, callback_fns=ActivationStats, bn_wd=bn_wd, true_wd=true_wd)"
   ]
  },
  {
   "cell_type": "markdown",
   "metadata": {},
   "source": [
    "## Alternative 1: Running a pre-trained network"
   ]
  },
  {
   "cell_type": "markdown",
   "metadata": {},
   "source": [
    "Now we load the pre-trained network. "
   ]
  },
  {
   "cell_type": "code",
   "execution_count": 8,
   "metadata": {
    "scrolled": true
   },
   "outputs": [],
   "source": [
    "# commented code as pre-trained network not available\n",
    "# learn.load(\"4D_TLA_leading\")"
   ]
  },
  {
   "cell_type": "markdown",
   "metadata": {},
   "source": [
    "Then we evaluate the MSE on this network - it should be of the order of 0.001 or less if all has gone well...if it has not trained as well (note the pesky 0-mass peak above...) then it's going to be a bit higher."
   ]
  },
  {
   "cell_type": "code",
   "execution_count": 9,
   "metadata": {},
   "outputs": [],
   "source": [
    "# commented code as pre-trained network not available\n",
    "# learn.validate()"
   ]
  },
  {
   "cell_type": "markdown",
   "metadata": {},
   "source": [
    "## Alternative 2: Training a new network"
   ]
  },
  {
   "cell_type": "markdown",
   "metadata": {},
   "source": [
    "Instead of using a pre-trained network, an alternative is to train a new network and use that instead. "
   ]
  },
  {
   "cell_type": "markdown",
   "metadata": {},
   "source": [
    "First, we want to find the best learning rate. The learning rate is a hyper-paramater that sets how much the weights of the network will change each step with respect to the loss gradient.\n",
    "\n",
    "Then we plot the loss versus the learning rates. We're interested in finding a good order of magnitude of learning rate, so we plot with a log scale.\n",
    "\n",
    "A good value for the learning rates is then either:\n",
    "- one tenth of the minimum before the divergence\n",
    "- when the slope is the steepest"
   ]
  },
  {
   "cell_type": "code",
   "execution_count": 10,
   "metadata": {},
   "outputs": [
    {
     "name": "stdout",
     "output_type": "stream",
     "text": [
      "Learning rate with the minimum loss: 0.010000000149011612\n",
      "Learning rate with the steepest gradient: 0.002511886414140463\n"
     ]
    },
    {
     "data": {
      "image/png": "[encoded data removed]",
      "text/plain": [
       "<Figure size 432x288 with 1 Axes>"
      ]
     },
     "metadata": {
      "needs_background": "light"
     },
     "output_type": "display_data"
    }
   ],
   "source": [
    "from fastai.callback import schedule\n",
    "\n",
    "lr_min, lr_steep = learn.lr_find()\n",
    "\n",
    "print('Learning rate with the minimum loss:', lr_min)\n",
    "print('Learning rate with the steepest gradient:', lr_steep)"
   ]
  },
  {
   "cell_type": "markdown",
   "metadata": {},
   "source": [
    "Now we want to run the training!\n",
    "\n",
    "User-chosen variables:\n",
    "- n_epoch: The number of epochs, i.e how many times the to run through all of the training data once (i.e the 1266046 entries, see cell 2)\n",
    "- lr: The learning rate. Either choose lr_min, lr_steep from above or set your own.\n"
   ]
  },
  {
   "cell_type": "code",
   "execution_count": 11,
   "metadata": {
    "scrolled": true
   },
   "outputs": [
    {
     "name": "stdout",
     "output_type": "stream",
     "text": [
      "[0, 2.6382343769073486, 0.5987152457237244, '00:00']\n",
      "[0, 2.6382343769073486, 0.5987152457237244, '00:00']\n",
      "[1, 0.7484664916992188, 0.2767142057418823, '00:00']\n",
      "[1, 0.7484664916992188, 0.2767142057418823, '00:00']\n",
      "[2, 0.3774736225605011, 0.26980987191200256, '00:00']\n",
      "[2, 0.3774736225605011, 0.26980987191200256, '00:00']\n",
      "[3, 0.29330411553382874, 0.27003103494644165, '00:00']\n",
      "[3, 0.29330411553382874, 0.27003103494644165, '00:00']\n",
      "[4, 0.27410122752189636, 0.27162206172943115, '00:00']\n",
      "[4, 0.27410122752189636, 0.27162206172943115, '00:00']\n",
      "[5, 0.27172231674194336, 0.26590967178344727, '00:00']\n",
      "[5, 0.27172231674194336, 0.26590967178344727, '00:00']\n",
      "[6, 0.20943409204483032, 0.17311528325080872, '00:00']\n",
      "[6, 0.20943409204483032, 0.17311528325080872, '00:00']\n",
      "[7, 0.1338045746088028, 0.08276692777872086, '00:00']\n",
      "[7, 0.1338045746088028, 0.08276692777872086, '00:00']\n",
      "[8, 0.08329608291387558, 0.025152618065476418, '00:00']\n",
      "[8, 0.08329608291387558, 0.025152618065476418, '00:00']\n",
      "[9, 0.03340597450733185, 0.011742938309907913, '00:00']\n",
      "[9, 0.03340597450733185, 0.011742938309907913, '00:00']\n",
      "[10, 0.013028712011873722, 0.002852021949365735, '00:00']\n",
      "[10, 0.013028712011873722, 0.002852021949365735, '00:00']\n",
      "[11, 0.009550459682941437, 0.005441850982606411, '00:00']\n",
      "[11, 0.009550459682941437, 0.005441850982606411, '00:00']\n",
      "[12, 0.009743746370077133, 0.0030632494017481804, '00:00']\n",
      "[12, 0.009743746370077133, 0.0030632494017481804, '00:00']\n",
      "[13, 0.01371017750352621, 0.009297072887420654, '00:00']\n",
      "[13, 0.01371017750352621, 0.009297072887420654, '00:00']\n",
      "[14, 0.01360910851508379, 0.004726691171526909, '00:00']\n",
      "[14, 0.01360910851508379, 0.004726691171526909, '00:00']\n",
      "[15, 0.017949499189853668, 0.010420458391308784, '00:00']\n",
      "[15, 0.017949499189853668, 0.010420458391308784, '00:00']\n",
      "[16, 0.01768053136765957, 0.026887616142630577, '00:00']\n",
      "[16, 0.01768053136765957, 0.026887616142630577, '00:00']\n",
      "[17, 0.019222935661673546, 0.0076900688000023365, '00:00']\n",
      "[17, 0.019222935661673546, 0.0076900688000023365, '00:00']\n",
      "[18, 0.021366534754633904, 0.021194320172071457, '00:00']\n",
      "[18, 0.021366534754633904, 0.021194320172071457, '00:00']\n",
      "[19, 0.024771874770522118, 0.022641293704509735, '00:00']\n",
      "[19, 0.024771874770522118, 0.022641293704509735, '00:00']\n",
      "[20, 0.01996437832713127, 0.01883481629192829, '00:00']\n",
      "[20, 0.01996437832713127, 0.01883481629192829, '00:00']\n",
      "[21, 0.018869858235120773, 0.04511656239628792, '00:00']\n",
      "[21, 0.018869858235120773, 0.04511656239628792, '00:00']\n",
      "[22, 0.019367938861250877, 0.018232915550470352, '00:00']\n",
      "[22, 0.019367938861250877, 0.018232915550470352, '00:00']\n",
      "[23, 0.018419716507196426, 0.007732638157904148, '00:00']\n",
      "[23, 0.018419716507196426, 0.007732638157904148, '00:00']\n",
      "[24, 0.020736750215291977, 0.009938101284205914, '00:00']\n",
      "[24, 0.020736750215291977, 0.009938101284205914, '00:00']\n",
      "[25, 0.014374219812452793, 0.011452450416982174, '00:00']\n",
      "[25, 0.014374219812452793, 0.011452450416982174, '00:00']\n",
      "[26, 0.022706130519509315, 0.00981816928833723, '00:00']\n",
      "[26, 0.022706130519509315, 0.00981816928833723, '00:00']\n",
      "[27, 0.014701624400913715, 0.005716172978281975, '00:00']\n",
      "[27, 0.014701624400913715, 0.005716172978281975, '00:00']\n",
      "[28, 0.015943538397550583, 0.004746624734252691, '00:00']\n",
      "[28, 0.015943538397550583, 0.004746624734252691, '00:00']\n",
      "[29, 0.013367768377065659, 0.010359439998865128, '00:00']\n",
      "[29, 0.013367768377065659, 0.010359439998865128, '00:00']\n",
      "[30, 0.019249090924859047, 0.009718472138047218, '00:00']\n",
      "[30, 0.019249090924859047, 0.009718472138047218, '00:00']\n",
      "[31, 0.011446424759924412, 0.016356512904167175, '00:00']\n",
      "[31, 0.011446424759924412, 0.016356512904167175, '00:00']\n",
      "[32, 0.010594001039862633, 0.022515397518873215, '00:00']\n",
      "[32, 0.010594001039862633, 0.022515397518873215, '00:00']\n",
      "[33, 0.015714915469288826, 0.003678384702652693, '00:00']\n",
      "[33, 0.015714915469288826, 0.003678384702652693, '00:00']\n",
      "[34, 0.009162187576293945, 0.01326412707567215, '00:00']\n",
      "[34, 0.009162187576293945, 0.01326412707567215, '00:00']\n",
      "[35, 0.009746813215315342, 0.00446401396766305, '00:00']\n",
      "[35, 0.009746813215315342, 0.00446401396766305, '00:00']\n",
      "[36, 0.010197213850915432, 0.007327872794121504, '00:00']\n",
      "[36, 0.010197213850915432, 0.007327872794121504, '00:00']\n",
      "[37, 0.00863906741142273, 0.008116386830806732, '00:00']\n",
      "[37, 0.00863906741142273, 0.008116386830806732, '00:00']\n",
      "[38, 0.01030751969665289, 0.012611386366188526, '00:00']\n",
      "[38, 0.01030751969665289, 0.012611386366188526, '00:00']\n",
      "[39, 0.00576302083209157, 0.0032039813231676817, '00:01']\n",
      "[39, 0.00576302083209157, 0.0032039813231676817, '00:01']\n",
      "[40, 0.007629137486219406, 0.007397005334496498, '00:00']\n",
      "[40, 0.007629137486219406, 0.007397005334496498, '00:00']\n",
      "[41, 0.006427006796002388, 0.0023837382905185223, '00:00']\n",
      "[41, 0.006427006796002388, 0.0023837382905185223, '00:00']\n",
      "[42, 0.005313813220709562, 0.0018796641379594803, '00:00']\n",
      "[42, 0.005313813220709562, 0.0018796641379594803, '00:00']\n",
      "[43, 0.00883725006133318, 0.0043104346841573715, '00:00']\n",
      "[43, 0.00883725006133318, 0.0043104346841573715, '00:00']\n",
      "[44, 0.004289956297725439, 0.0015926578780636191, '00:00']\n",
      "[44, 0.004289956297725439, 0.0015926578780636191, '00:00']\n",
      "[45, 0.005174288991838694, 0.0009207372204400599, '00:00']\n",
      "[45, 0.005174288991838694, 0.0009207372204400599, '00:00']\n",
      "[46, 0.0057618883438408375, 0.003286140039563179, '00:00']\n",
      "[46, 0.0057618883438408375, 0.003286140039563179, '00:00']\n",
      "[47, 0.0035762907937169075, 0.002873206278309226, '00:00']\n",
      "[47, 0.0035762907937169075, 0.002873206278309226, '00:00']\n",
      "[48, 0.003741980530321598, 0.002046581357717514, '00:00']\n",
      "[48, 0.003741980530321598, 0.002046581357717514, '00:00']\n",
      "[49, 0.003406725125387311, 0.002186483470723033, '00:00']\n",
      "[49, 0.003406725125387311, 0.002186483470723033, '00:00']\n",
      "[50, 0.003225636435672641, 0.0007253590738400817, '00:00']\n",
      "[50, 0.003225636435672641, 0.0007253590738400817, '00:00']\n",
      "[51, 0.003127356292679906, 0.005289153195917606, '00:00']\n",
      "[51, 0.003127356292679906, 0.005289153195917606, '00:00']\n",
      "[52, 0.003159807762131095, 0.0031607637647539377, '00:00']\n",
      "[52, 0.003159807762131095, 0.0031607637647539377, '00:00']\n",
      "[53, 0.003324283054098487, 0.002467961749061942, '00:00']\n",
      "[53, 0.003324283054098487, 0.002467961749061942, '00:00']\n",
      "[54, 0.0020954895298928022, 0.0008704090723767877, '00:00']\n",
      "[54, 0.0020954895298928022, 0.0008704090723767877, '00:00']\n",
      "[55, 0.0016475105658173561, 0.0005258604069240391, '00:01']\n",
      "[55, 0.0016475105658173561, 0.0005258604069240391, '00:01']\n",
      "[56, 0.0016812544781714678, 0.0011338713811710477, '00:00']\n",
      "[56, 0.0016812544781714678, 0.0011338713811710477, '00:00']\n",
      "[57, 0.0014948714524507523, 0.0008937170496210456, '00:00']\n",
      "[57, 0.0014948714524507523, 0.0008937170496210456, '00:00']\n",
      "[58, 0.0013052646536380053, 0.0003936357097700238, '00:00']\n",
      "[58, 0.0013052646536380053, 0.0003936357097700238, '00:00']\n",
      "[59, 0.0012832866050302982, 0.0009342640987597406, '00:00']\n",
      "[59, 0.0012832866050302982, 0.0009342640987597406, '00:00']\n",
      "[60, 0.001101718400605023, 0.0013187829172238708, '00:00']\n",
      "[60, 0.001101718400605023, 0.0013187829172238708, '00:00']\n",
      "[61, 0.0008100321865640581, 0.001759143895469606, '00:00']\n",
      "[61, 0.0008100321865640581, 0.001759143895469606, '00:00']\n",
      "[62, 0.0007796925492584705, 0.0004335931735113263, '00:00']\n",
      "[62, 0.0007796925492584705, 0.0004335931735113263, '00:00']\n",
      "[63, 0.0006531934486702085, 0.0025217467918992043, '00:00']\n",
      "[63, 0.0006531934486702085, 0.0025217467918992043, '00:00']\n",
      "[64, 0.0009222666267305613, 0.0016178853111341596, '00:00']\n",
      "[64, 0.0009222666267305613, 0.0016178853111341596, '00:00']\n",
      "[65, 0.000484772608615458, 0.0010688501643016934, '00:00']\n",
      "[65, 0.000484772608615458, 0.0010688501643016934, '00:00']\n",
      "[66, 0.00041559446253813803, 0.0003998331376351416, '00:00']\n",
      "[66, 0.00041559446253813803, 0.0003998331376351416, '00:00']\n",
      "[67, 0.00033218591124750674, 0.0006047837086953223, '00:00']\n",
      "[67, 0.00033218591124750674, 0.0006047837086953223, '00:00']\n",
      "[68, 0.00039181485772132874, 0.000517115811817348, '00:00']\n",
      "[68, 0.00039181485772132874, 0.000517115811817348, '00:00']\n",
      "[69, 0.0003846036270260811, 0.00040234116022475064, '00:00']\n",
      "[69, 0.0003846036270260811, 0.00040234116022475064, '00:00']\n",
      "[70, 0.00026625185273587704, 8.234923734562472e-05, '00:00']\n",
      "[70, 0.00026625185273587704, 8.234923734562472e-05, '00:00']\n"
     ]
    },
    {
     "name": "stdout",
     "output_type": "stream",
     "text": [
      "[71, 0.00022639318194705993, 0.0007673154468648136, '00:00']\n",
      "[71, 0.00022639318194705993, 0.0007673154468648136, '00:00']\n",
      "[72, 0.00020636056433431804, 0.0003141298075206578, '00:00']\n",
      "[72, 0.00020636056433431804, 0.0003141298075206578, '00:00']\n",
      "[73, 0.00016293195949401706, 0.00010843073687283322, '00:00']\n",
      "[73, 0.00016293195949401706, 0.00010843073687283322, '00:00']\n",
      "[74, 0.00014494062634184957, 0.00032824144000187516, '00:00']\n",
      "[74, 0.00014494062634184957, 0.00032824144000187516, '00:00']\n",
      "[75, 0.00011214156984351575, 6.247791316127405e-05, '00:00']\n",
      "[75, 0.00011214156984351575, 6.247791316127405e-05, '00:00']\n",
      "[76, 0.00010543108510319144, 7.966240809764713e-05, '00:00']\n",
      "[76, 0.00010543108510319144, 7.966240809764713e-05, '00:00']\n",
      "[77, 8.881062240106985e-05, 9.679666982265189e-05, '00:00']\n",
      "[77, 8.881062240106985e-05, 9.679666982265189e-05, '00:00']\n",
      "[78, 6.624349771300331e-05, 4.8586949560558423e-05, '00:00']\n",
      "[78, 6.624349771300331e-05, 4.8586949560558423e-05, '00:00']\n",
      "[79, 6.117227167123929e-05, 2.941281854873523e-05, '00:00']\n",
      "[79, 6.117227167123929e-05, 2.941281854873523e-05, '00:00']\n",
      "[80, 5.4775602620793507e-05, 5.101335409563035e-05, '00:00']\n",
      "[80, 5.4775602620793507e-05, 5.101335409563035e-05, '00:00']\n",
      "[81, 3.981347617809661e-05, 3.493369877105579e-05, '00:00']\n",
      "[81, 3.981347617809661e-05, 3.493369877105579e-05, '00:00']\n",
      "[82, 3.3268104743910953e-05, 2.3549224351882003e-05, '00:00']\n",
      "[82, 3.3268104743910953e-05, 2.3549224351882003e-05, '00:00']\n",
      "[83, 3.3006916055455804e-05, 2.9394188459264114e-05, '00:00']\n",
      "[83, 3.3006916055455804e-05, 2.9394188459264114e-05, '00:00']\n",
      "[84, 2.3837539629312232e-05, 1.7778989786165766e-05, '00:00']\n",
      "[84, 2.3837539629312232e-05, 1.7778989786165766e-05, '00:00']\n",
      "[85, 2.239965215267148e-05, 2.43022404902149e-05, '00:00']\n",
      "[85, 2.239965215267148e-05, 2.43022404902149e-05, '00:00']\n",
      "[86, 2.3294798666029237e-05, 1.6892356143216603e-05, '00:01']\n",
      "[86, 2.3294798666029237e-05, 1.6892356143216603e-05, '00:01']\n",
      "[87, 1.8199994883616455e-05, 1.5427256585098803e-05, '00:00']\n",
      "[87, 1.8199994883616455e-05, 1.5427256585098803e-05, '00:00']\n",
      "[88, 1.655835148994811e-05, 1.450570380256977e-05, '00:00']\n",
      "[88, 1.655835148994811e-05, 1.450570380256977e-05, '00:00']\n",
      "[89, 1.4750211448699702e-05, 1.3922082871431485e-05, '00:00']\n",
      "[89, 1.4750211448699702e-05, 1.3922082871431485e-05, '00:00']\n",
      "[90, 1.5736573914182372e-05, 1.6187190340133384e-05, '00:00']\n",
      "[90, 1.5736573914182372e-05, 1.6187190340133384e-05, '00:00']\n",
      "[91, 1.393146339978557e-05, 1.3480569577950519e-05, '00:00']\n",
      "[91, 1.393146339978557e-05, 1.3480569577950519e-05, '00:00']\n",
      "[92, 1.2000221431662794e-05, 1.1549450391612481e-05, '00:01']\n",
      "[92, 1.2000221431662794e-05, 1.1549450391612481e-05, '00:01']\n",
      "[93, 1.1594696843530983e-05, 1.2769597560691182e-05, '00:00']\n",
      "[93, 1.1594696843530983e-05, 1.2769597560691182e-05, '00:00']\n",
      "[94, 1.1067194463976193e-05, 1.1643903235381003e-05, '00:00']\n",
      "[94, 1.1067194463976193e-05, 1.1643903235381003e-05, '00:00']\n",
      "[95, 1.0567060598987155e-05, 1.075688487617299e-05, '00:00']\n",
      "[95, 1.0567060598987155e-05, 1.075688487617299e-05, '00:00']\n",
      "[96, 1.0213805580860935e-05, 1.0735358046076726e-05, '00:00']\n",
      "[96, 1.0213805580860935e-05, 1.0735358046076726e-05, '00:00']\n",
      "[97, 1.019209867081372e-05, 1.056810469890479e-05, '00:00']\n",
      "[97, 1.019209867081372e-05, 1.056810469890479e-05, '00:00']\n",
      "[98, 9.803814464248717e-06, 1.038754271576181e-05, '00:00']\n",
      "[98, 9.803814464248717e-06, 1.038754271576181e-05, '00:00']\n",
      "[99, 9.73557325778529e-06, 1.0359457519371063e-05, '00:00']\n",
      "[99, 9.73557325778529e-06, 1.0359457519371063e-05, '00:00']\n",
      "Training took 87.52847652599999 seconds\n"
     ]
    }
   ],
   "source": [
    "import time\n",
    "\n",
    "start = time.perf_counter() # Starts timer\n",
    "# recreate learner object with lr_min\n",
    "learn = learner.Learner(dls, model=model, wd=wd, loss_func=loss_func, cbs=recorder, lr=lr_min)\n",
    "learn.fit_one_cycle(n_epoch=100)\n",
    "# learn.fit_one_cycle(n_epoch=100, lr=lr_min)\n",
    "end = time.perf_counter() # Ends timer\n",
    "delta_t = end - start\n",
    "print('Training took', delta_t, 'seconds')"
   ]
  },
  {
   "cell_type": "markdown",
   "metadata": {},
   "source": [
    "Then we plot the loss as a function of batches and epochs to check if we reach a plateau."
   ]
  },
  {
   "cell_type": "code",
   "execution_count": 12,
   "metadata": {},
   "outputs": [
    {
     "data": {
      "image/png": "[encoded data removed]",
      "text/plain": [
       "<Figure size 432x288 with 1 Axes>"
      ]
     },
     "metadata": {
      "needs_background": "light"
     },
     "output_type": "display_data"
    }
   ],
   "source": [
    "recorder.plot_loss()"
   ]
  },
  {
   "cell_type": "markdown",
   "metadata": {},
   "source": [
    "Then we evaluate the MSE on this network - it should be of the order of 0.001 or less if all has gone well...if it has not trained as well (note the pesky 0-mass peak above...) then it's going to be a bit higher."
   ]
  },
  {
   "cell_type": "code",
   "execution_count": 13,
   "metadata": {},
   "outputs": [
    {
     "data": {
      "text/plain": [
       "(#1) [1.0359457519371063e-05]"
      ]
     },
     "execution_count": 13,
     "metadata": {},
     "output_type": "execute_result"
    }
   ],
   "source": [
    "learn.validate()"
   ]
  },
  {
   "cell_type": "markdown",
   "metadata": {},
   "source": [
    "Let's plot all of this, with ratios (thanks to code by Erik Wallin)"
   ]
  },
  {
   "cell_type": "markdown",
   "metadata": {},
   "source": [
    "## Plotting the outputs of the network"
   ]
  },
  {
   "cell_type": "markdown",
   "metadata": {},
   "source": [
    "Lazy-save of our output files (they'll also be on screen)"
   ]
  },
  {
   "cell_type": "code",
   "execution_count": 14,
   "metadata": {},
   "outputs": [],
   "source": [
    "import os\n",
    "save_dir = \"plotOutput\"\n",
    "if not os.path.exists(save_dir):\n",
    "    os.makedirs(save_dir)"
   ]
  },
  {
   "cell_type": "markdown",
   "metadata": {},
   "source": [
    "A function in case we want to un-normalize and get back to physical quantities..."
   ]
  },
  {
   "cell_type": "code",
   "execution_count": 15,
   "metadata": {},
   "outputs": [],
   "source": [
    "def custom_unnormalize(df):\n",
    "    df['eta'] = df['eta'] * 5\n",
    "    df['phi'] = df['phi'] * 3\n",
    "    df['E'] = 10**df['E']\n",
    "#     df['m'] = 10**df['m'] # replace m with E\n",
    "    df['pt'] = 10**(df['pt'])\n",
    "    return df"
   ]
  },
  {
   "cell_type": "markdown",
   "metadata": {},
   "source": [
    "Make the histograms from the dataset...\n",
    "\n",
    "- Histograms depicting normalized data\n",
    "- Histograms depicting unnormalized data"
   ]
  },
  {
   "cell_type": "markdown",
   "metadata": {},
   "source": [
    "Histograms depicting normalized data"
   ]
  },
  {
   "cell_type": "code",
   "execution_count": 16,
   "metadata": {},
   "outputs": [
    {
     "data": {
      "image/png": "[encoded data removed]",
      "text/plain": [
       "<Figure size 432x288 with 1 Axes>"
      ]
     },
     "metadata": {
      "needs_background": "light"
     },
     "output_type": "display_data"
    },
    {
     "data": {
      "image/png": "[encoded data removed]",
      "text/plain": [
       "<Figure size 432x288 with 1 Axes>"
      ]
     },
     "metadata": {
      "needs_background": "light"
     },
     "output_type": "display_data"
    },
    {
     "data": {
      "image/png": "[encoded data removed]",
      "text/plain": [
       "<Figure size 432x288 with 1 Axes>"
      ]
     },
     "metadata": {
      "needs_background": "light"
     },
     "output_type": "display_data"
    },
    {
     "data": {
      "image/png": "[encoded data removed]",
      "text/plain": [
       "<Figure size 432x288 with 1 Axes>"
      ]
     },
     "metadata": {
      "needs_background": "light"
     },
     "output_type": "display_data"
    }
   ],
   "source": [
    "import numpy as np\n",
    "\n",
    "plt.close('all')\n",
    "unit_list = ['[GeV]', '[rad]', '[rad]', '[GeV]']\n",
    "variable_list = [ r'$E$', r'$pt$', r'$\\eta$', r'$\\phi$']\n",
    "line_style = ['--', '-']\n",
    "colors = ['orange', 'c']\n",
    "markers = ['*', 's']\n",
    "\n",
    "model.to('cpu')\n",
    "\n",
    "save = True # Option to save figure\n",
    "\n",
    "# Histograms\n",
    "idxs = (0, 100000)  # Choose events to compare\n",
    "data = torch.tensor(test[idxs[0]:idxs[1]].values, dtype=torch.float)\n",
    "#data = torch.tensor(test[idxs[0]:idxs[1]].values, dtype=torch.float).double()\n",
    "pred = model(data)\n",
    "pred = pred.detach().numpy()\n",
    "data = data.detach().numpy()\n",
    "data_df = pd.DataFrame(data, columns=test.columns)\n",
    "pred_df = pd.DataFrame(pred, columns=test.columns)  \n",
    "    \n",
    "alph = 0.8\n",
    "n_bins = 200\n",
    "for kk in np.arange(4):\n",
    "    plt.figure()\n",
    "    n_hist_data, bin_edges, _ = plt.hist(data[:, kk], color=colors[1], label='Input', alpha=1, bins=n_bins)\n",
    "    n_hist_pred, _, _ = plt.hist(pred[:, kk], color=colors[0], label='Output', alpha=alph, bins=bin_edges)\n",
    "    plt.suptitle(test.columns[kk])\n",
    "    plt.xlabel(test.columns[kk])\n",
    "    plt.ylabel('Number of events')\n",
    "    # ms.sciy()\n",
    "    plt.yscale('log')\n",
    "    plt.legend()\n",
    "    if save:\n",
    "        plt.savefig(os.path.join(save_dir,test.columns[kk]+'_normalized.png'))"
   ]
  },
  {
   "cell_type": "markdown",
   "metadata": {},
   "source": [
    "Histograms depicting unnormalized data"
   ]
  },
  {
   "cell_type": "code",
   "execution_count": 17,
   "metadata": {},
   "outputs": [
    {
     "data": {
      "image/png": "[encoded data removed]",
      "text/plain": [
       "<Figure size 432x288 with 1 Axes>"
      ]
     },
     "metadata": {
      "needs_background": "light"
     },
     "output_type": "display_data"
    },
    {
     "data": {
      "image/png": "[encoded data removed]",
      "text/plain": [
       "<Figure size 432x288 with 1 Axes>"
      ]
     },
     "metadata": {
      "needs_background": "light"
     },
     "output_type": "display_data"
    },
    {
     "data": {
      "image/png": "[encoded data removed]",
      "text/plain": [
       "<Figure size 432x288 with 1 Axes>"
      ]
     },
     "metadata": {
      "needs_background": "light"
     },
     "output_type": "display_data"
    },
    {
     "data": {
      "image/png": "[encoded data removed]",
      "text/plain": [
       "<Figure size 432x288 with 1 Axes>"
      ]
     },
     "metadata": {
      "needs_background": "light"
     },
     "output_type": "display_data"
    }
   ],
   "source": [
    "import numpy as np\n",
    "\n",
    "plt.close('all')\n",
    "unit_list = ['[GeV]', '[rad]', '[rad]', '[GeV]']\n",
    "variable_list = [ r'$E$', r'$pt$', r'$\\eta$', r'$\\phi$']\n",
    "line_style = ['--', '-']\n",
    "colors = ['orange', 'c']\n",
    "markers = ['*', 's']\n",
    "\n",
    "model.to('cpu')\n",
    "\n",
    "save = True # Option to save figure\n",
    "\n",
    "# Histograms\n",
    "idxs = (0, 100000)  # Choose events to compare\n",
    "data = torch.tensor(test[idxs[0]:idxs[1]].values, dtype=torch.float)\n",
    "#data = torch.tensor(test[idxs[0]:idxs[1]].values, dtype=torch.float).double()\n",
    "pred = model(data)\n",
    "pred = pred.detach().numpy()\n",
    "data = data.detach().numpy()\n",
    "data_df = pd.DataFrame(data, columns=test.columns)\n",
    "pred_df = pd.DataFrame(pred, columns=test.columns)\n",
    "\n",
    "unnormalized_data_df = custom_unnormalize(data_df)\n",
    "unnormalized_pred_df = custom_unnormalize(pred_df)    \n",
    "    \n",
    "alph = 0.8\n",
    "n_bins = 200\n",
    "for kk in np.arange(4):\n",
    "    plt.figure()\n",
    "    n_hist_data, bin_edges, _ = plt.hist(data[:, kk], color=colors[1], label='Input', alpha=1, bins=n_bins)\n",
    "    n_hist_pred, _, _ = plt.hist(pred[:, kk], color=colors[0], label='Output', alpha=alph, bins=bin_edges)\n",
    "    plt.suptitle(test.columns[kk])\n",
    "    plt.xlabel(test.columns[kk])\n",
    "    plt.ylabel('Number of events')\n",
    "    # ms.sciy()\n",
    "    plt.yscale('log')\n",
    "    plt.legend()\n",
    "    if save:\n",
    "        plt.savefig(os.path.join(save_dir,test.columns[kk]+'_unnormalized.png'))"
   ]
  },
  {
   "cell_type": "code",
   "execution_count": 18,
   "metadata": {},
   "outputs": [],
   "source": [
    "def getRatio(bin1,bin2):\n",
    "    bins = []\n",
    "    for b1,b2 in zip(bin1,bin2):\n",
    "        if b1==0 and b2==0:\n",
    "            bins.append(0.)\n",
    "        elif b2==0:\n",
    "            bins.append(None)\n",
    "        else:\n",
    "            bins.append((float(b2)-float(b1))/b1)\n",
    "    return bins   \n",
    "\n",
    "rat = getRatio(n_hist_data,n_hist_pred)\n",
    "# print(rat)"
   ]
  }
 ],
 "metadata": {
  "kernelspec": {
   "display_name": "Python [conda env:hcf]",
   "language": "python",
   "name": "conda-env-hcf-py"
  },
  "language_info": {
   "codemirror_mode": {
    "name": "ipython",
    "version": 3
   },
   "file_extension": ".py",
   "mimetype": "text/x-python",
   "name": "python",
   "nbconvert_exporter": "python",
   "pygments_lexer": "ipython3",
   "version": "3.8.8"
  }
 },
 "nbformat": 4,
 "nbformat_minor": 4
}
