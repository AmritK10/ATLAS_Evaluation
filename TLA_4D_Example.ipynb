{
 "cells": [
  {
   "cell_type": "markdown",
   "metadata": {},
   "source": [
    "In this notebook, we will run a ready-made network starting from some ATLAS data, which is already normalized. There is also an alternative to train the network from scratch.  "
   ]
  },
  {
   "cell_type": "markdown",
   "metadata": {},
   "source": [
    "## Look into the dataset"
   ]
  },
  {
   "cell_type": "markdown",
   "metadata": {},
   "source": [
    "First we need to make sure that Python 3.8 is used in the notebook. It is required in order to open this certain .pkl-file. "
   ]
  },
  {
   "cell_type": "code",
   "execution_count": 1,
   "metadata": {},
   "outputs": [
    {
     "data": {
      "text/plain": [
       "'3.8.8 (default, Feb 24 2021, 13:46:16) \\n[Clang 10.0.0 ]'"
      ]
     },
     "execution_count": 1,
     "metadata": {},
     "output_type": "execute_result"
    }
   ],
   "source": [
    "import sys\n",
    "sys.version"
   ]
  },
  {
   "cell_type": "markdown",
   "metadata": {},
   "source": [
    "We take a pickle dataset, and open into Pandas (after importing pandas). Note that you have to change the paths to the directory where your processed files are. "
   ]
  },
  {
   "cell_type": "code",
   "execution_count": 2,
   "metadata": {},
   "outputs": [
    {
     "name": "stdout",
     "output_type": "stream",
     "text": [
      "Training sample:\n",
      "          E        pt       eta       phi\n",
      "0  4.906713  4.700341 -0.349047 -0.590943\n",
      "1  6.347139  5.855345  0.599470 -1.025347\n",
      "2  5.997825  5.637058  0.490727 -0.623413\n",
      "3  5.372660  4.761313  0.694790  0.697643\n",
      "4  5.797168  5.707606 -0.218154  0.219345\n",
      "\n",
      "\n",
      "Testing sample:\n",
      "          E        pt       eta       phi\n",
      "0  5.154570  4.361824 -0.837267  0.611330\n",
      "1  5.669887  5.194112  0.585920 -0.487810\n",
      "2  5.136172  4.816144 -0.455033  0.025235\n",
      "3  5.028673  4.574284  0.568423 -0.929800\n",
      "4  6.243935  4.664594 -1.443177 -0.803610\n",
      "\n",
      "\n",
      "The number of entries in the training data: 18128\n",
      "The number of entries in the validation data: 4533\n"
     ]
    }
   ],
   "source": [
    "import pandas as pd\n",
    "\n",
    "# Change these paths to point to where you have stored the datasets. \n",
    "train_path = 'train_jet_objects.pkl'\n",
    "test_path = 'test_jet_objects.pkl'\n",
    "\n",
    "# Reads the .pkl-files with Pandas\n",
    "train = pd.read_pickle(train_path)\n",
    "test = pd.read_pickle(test_path)\n",
    "\n",
    "# To get an idea of the order of magnitude we are going to see in the plots we show the first elements \n",
    "# in the samples:\n",
    "print('Training sample:')\n",
    "print(train.head())\n",
    "\n",
    "print('\\n')\n",
    "\n",
    "print('Testing sample:')\n",
    "print(test.head())\n",
    "\n",
    "print('\\n')\n",
    "\n",
    "print('The number of entries in the training data:', len(train))\n",
    "print('The number of entries in the validation data:', len(test))"
   ]
  },
  {
   "cell_type": "markdown",
   "metadata": {},
   "source": [
    "Now we plot the data using the matplotlib library. The units reflect the normalization, but it's the shape that we care about. "
   ]
  },
  {
   "cell_type": "code",
   "execution_count": 3,
   "metadata": {},
   "outputs": [
    {
     "data": {
      "image/png": "[encoded data removed]",
      "text/plain": [
       "<Figure size 432x288 with 1 Axes>"
      ]
     },
     "metadata": {
      "needs_background": "light"
     },
     "output_type": "display_data"
    },
    {
     "data": {
      "image/png": "[encoded data removed]",
      "text/plain": [
       "<Figure size 432x288 with 1 Axes>"
      ]
     },
     "metadata": {
      "needs_background": "light"
     },
     "output_type": "display_data"
    },
    {
     "data": {
      "image/png": "[encoded data removed]",
      "text/plain": [
       "<Figure size 432x288 with 1 Axes>"
      ]
     },
     "metadata": {
      "needs_background": "light"
     },
     "output_type": "display_data"
    },
    {
     "data": {
      "image/png": "[encoded data removed]",
      "text/plain": [
       "<Figure size 432x288 with 1 Axes>"
      ]
     },
     "metadata": {
      "needs_background": "light"
     },
     "output_type": "display_data"
    }
   ],
   "source": [
    "import matplotlib.pyplot as plt\n",
    "\n",
    "unit_list = ['[log(GeV)]', '[rad/3]', '[rad/3]', '[log(GeV)]']\n",
    "variable_list = [r'$pt$', r'$\\eta$', r'$\\phi$', r'$E$'] # replace m with E\n",
    "\n",
    "branches=[\"pt\",\"eta\",\"phi\",\"E\"] # replace m with E\n",
    "\n",
    "n_bins = 100\n",
    "\n",
    "for kk in range(0,4):\n",
    "    n_hist_data, bin_edges, _ = plt.hist(train[branches[kk]], color='gray', label='Input', alpha=1, bins=n_bins)\n",
    "    plt.xlabel(xlabel=variable_list[kk] + ' ' + unit_list[kk])\n",
    "    plt.ylabel('# of events')\n",
    "    #plt.savefig(\"fourmomentum_\"+branches[kk],dpi=300)\n",
    "    plt.show()"
   ]
  },
  {
   "cell_type": "markdown",
   "metadata": {},
   "source": [
    "## Setting up the network"
   ]
  },
  {
   "cell_type": "markdown",
   "metadata": {},
   "source": [
    "### Preparing the data"
   ]
  },
  {
   "cell_type": "markdown",
   "metadata": {},
   "source": [
    "Adding the two datasets as TensorDatasets to PyTorch (also loading all other classes we'll need later)"
   ]
  },
  {
   "cell_type": "code",
   "execution_count": 4,
   "metadata": {},
   "outputs": [],
   "source": [
    "import torch\n",
    "import torch.nn as nn\n",
    "import torch.optim as optim\n",
    "import torch.utils.data\n",
    "from torch.autograd import Variable\n",
    "\n",
    "from torch.utils.data import TensorDataset\n",
    "from torch.utils.data import DataLoader\n",
    "\n",
    "from fastai import learner\n",
    "from fastai.data import core\n",
    "\n",
    "train_x = train\n",
    "test_x = test\n",
    "train_y = train_x  # y = x since we are building an autoencoder\n",
    "test_y = test_x\n",
    "\n",
    "# Constructs a tensor object of the data and wraps them in a TensorDataset object.\n",
    "train_ds = TensorDataset(torch.tensor(train_x.values, dtype=torch.float), torch.tensor(train_y.values, dtype=torch.float))\n",
    "valid_ds = TensorDataset(torch.tensor(test_x.values, dtype=torch.float), torch.tensor(test_y.values, dtype=torch.float))\n"
   ]
  },
  {
   "cell_type": "markdown",
   "metadata": {},
   "source": [
    "We now set things up to load the data, and we use a batch size that was optimized by previous students...note also that this is fastai v2, migration thanks to Jessica Lastow."
   ]
  },
  {
   "cell_type": "code",
   "execution_count": 5,
   "metadata": {},
   "outputs": [],
   "source": [
    "bs = 256\n",
    "\n",
    "# Converts the TensorDataset into a DataLoader object and combines into one DataLoaders object (a basic wrapper\n",
    "# around several DataLoader objects). \n",
    "train_dl = DataLoader(train_ds, batch_size=bs, shuffle=True)\n",
    "valid_dl = DataLoader(valid_ds, batch_size=bs * 2)\n",
    "dls = core.DataLoaders(train_dl, valid_dl)"
   ]
  },
  {
   "cell_type": "markdown",
   "metadata": {},
   "source": [
    "### Preparing the network"
   ]
  },
  {
   "cell_type": "markdown",
   "metadata": {},
   "source": [
    "Here we have an example network. Details aren't too important, as long as they match what was already trained for us...in this case we have a LeakyReLU, tanh activation function, and a number of layers that goes from 4 to 200 to 20 to 3 (number of features in the hidden layer that we pick for testing compression) and then back all the way to 4. "
   ]
  },
  {
   "cell_type": "code",
   "execution_count": 6,
   "metadata": {},
   "outputs": [
    {
     "data": {
      "text/plain": [
       "AE_3D_200_LeakyReLU(\n",
       "  (en1): Linear(in_features=4, out_features=200, bias=True)\n",
       "  (en2): Linear(in_features=200, out_features=200, bias=True)\n",
       "  (en3): Linear(in_features=200, out_features=20, bias=True)\n",
       "  (en4): Linear(in_features=20, out_features=3, bias=True)\n",
       "  (de1): Linear(in_features=3, out_features=20, bias=True)\n",
       "  (de2): Linear(in_features=20, out_features=200, bias=True)\n",
       "  (de3): Linear(in_features=200, out_features=200, bias=True)\n",
       "  (de4): Linear(in_features=200, out_features=4, bias=True)\n",
       "  (tanh): Tanh()\n",
       ")"
      ]
     },
     "execution_count": 6,
     "metadata": {},
     "output_type": "execute_result"
    }
   ],
   "source": [
    "class AE_3D_200_LeakyReLU(nn.Module):\n",
    "    def __init__(self, n_features=4):\n",
    "        super(AE_3D_200_LeakyReLU, self).__init__()\n",
    "        self.en1 = nn.Linear(n_features, 200)\n",
    "        self.en2 = nn.Linear(200, 200)\n",
    "        self.en3 = nn.Linear(200, 20)\n",
    "        self.en4 = nn.Linear(20, 3)\n",
    "        self.de1 = nn.Linear(3, 20)\n",
    "        self.de2 = nn.Linear(20, 200)\n",
    "        self.de3 = nn.Linear(200, 200)\n",
    "        self.de4 = nn.Linear(200, n_features)\n",
    "        self.tanh = nn.Tanh()\n",
    "\n",
    "    def encode(self, x):\n",
    "        return self.en4(self.tanh(self.en3(self.tanh(self.en2(self.tanh(self.en1(x)))))))\n",
    "\n",
    "    def decode(self, x):\n",
    "        return self.de4(self.tanh(self.de3(self.tanh(self.de2(self.tanh(self.de1(self.tanh(x))))))))\n",
    "\n",
    "    def forward(self, x):\n",
    "        z = self.encode(x)\n",
    "        return self.decode(z)\n",
    "\n",
    "    def describe(self):\n",
    "        return 'in-200-200-20-3-20-200-200-out'\n",
    "\n",
    "#model = AE_3D_200_LeakyReLU().double()\n",
    "model = AE_3D_200_LeakyReLU()\n",
    "model.to('cpu')"
   ]
  },
  {
   "cell_type": "markdown",
   "metadata": {},
   "source": [
    "We now have to pick a loss function - MSE loss is appropriate for a compression autoencoder since it reflects the [(input-output)/input] physical quantity that we want to minimize. "
   ]
  },
  {
   "cell_type": "code",
   "execution_count": 7,
   "metadata": {},
   "outputs": [],
   "source": [
    "from fastai.metrics import mse\n",
    "\n",
    "loss_func = nn.MSELoss()\n",
    "\n",
    "#bn_wd = False  # Don't use weight decay for batchnorm layers\n",
    "#true_wd = True  # weight decay will be used for all optimizers\n",
    "wd = 1e-6\n",
    "\n",
    "recorder = learner.Recorder()\n",
    "learn = learner.Learner(dls, model=model, wd=wd, loss_func=loss_func, cbs=recorder)\n",
    "#was: learn = basic_train.Learner(data=db, model=model, loss_func=loss_func, wd=wd, callback_fns=ActivationStats, bn_wd=bn_wd, true_wd=true_wd)"
   ]
  },
  {
   "cell_type": "markdown",
   "metadata": {},
   "source": [
    "## Alternative 1: Running a pre-trained network"
   ]
  },
  {
   "cell_type": "markdown",
   "metadata": {},
   "source": [
    "Now we load the pre-trained network. "
   ]
  },
  {
   "cell_type": "code",
   "execution_count": 8,
   "metadata": {
    "scrolled": true
   },
   "outputs": [],
   "source": [
    "# commented code as pre-trained network not available\n",
    "# learn.load(\"4D_TLA_leading\")"
   ]
  },
  {
   "cell_type": "markdown",
   "metadata": {},
   "source": [
    "Then we evaluate the MSE on this network - it should be of the order of 0.001 or less if all has gone well...if it has not trained as well (note the pesky 0-mass peak above...) then it's going to be a bit higher."
   ]
  },
  {
   "cell_type": "code",
   "execution_count": 9,
   "metadata": {},
   "outputs": [],
   "source": [
    "# commented code as pre-trained network not available\n",
    "# learn.validate()"
   ]
  },
  {
   "cell_type": "markdown",
   "metadata": {},
   "source": [
    "## Alternative 2: Training a new network"
   ]
  },
  {
   "cell_type": "markdown",
   "metadata": {},
   "source": [
    "Instead of using a pre-trained network, an alternative is to train a new network and use that instead. "
   ]
  },
  {
   "cell_type": "markdown",
   "metadata": {},
   "source": [
    "First, we want to find the best learning rate. The learning rate is a hyper-paramater that sets how much the weights of the network will change each step with respect to the loss gradient.\n",
    "\n",
    "Then we plot the loss versus the learning rates. We're interested in finding a good order of magnitude of learning rate, so we plot with a log scale.\n",
    "\n",
    "A good value for the learning rates is then either:\n",
    "- one tenth of the minimum before the divergence\n",
    "- when the slope is the steepest"
   ]
  },
  {
   "cell_type": "code",
   "execution_count": 10,
   "metadata": {},
   "outputs": [
    {
     "name": "stdout",
     "output_type": "stream",
     "text": [
      "Learning rate with the minimum loss: 0.012022644281387329\n",
      "Learning rate with the steepest gradient: 0.002511886414140463\n"
     ]
    },
    {
     "data": {
      "image/png": "[encoded data removed]",
      "text/plain": [
       "<Figure size 432x288 with 1 Axes>"
      ]
     },
     "metadata": {
      "needs_background": "light"
     },
     "output_type": "display_data"
    }
   ],
   "source": [
    "from fastai.callback import schedule\n",
    "\n",
    "lr_min, lr_steep = learn.lr_find()\n",
    "\n",
    "print('Learning rate with the minimum loss:', lr_min)\n",
    "print('Learning rate with the steepest gradient:', lr_steep)"
   ]
  },
  {
   "cell_type": "markdown",
   "metadata": {},
   "source": [
    "Now we want to run the training!\n",
    "\n",
    "User-chosen variables:\n",
    "- n_epoch: The number of epochs, i.e how many times the to run through all of the training data once (i.e the 1266046 entries, see cell 2)\n",
    "- lr: The learning rate. Either choose lr_min, lr_steep from above or set your own.\n"
   ]
  },
  {
   "cell_type": "code",
   "execution_count": 11,
   "metadata": {
    "scrolled": true
   },
   "outputs": [
    {
     "name": "stdout",
     "output_type": "stream",
     "text": [
      "[0, 2.1249399185180664, 0.31008195877075195, '00:00']\n",
      "[0, 2.1249399185180664, 0.31008195877075195, '00:00']\n",
      "[1, 0.6414732933044434, 0.26889947056770325, '00:00']\n",
      "[1, 0.6414732933044434, 0.26889947056770325, '00:00']\n",
      "[2, 0.35293513536453247, 0.2709469795227051, '00:00']\n",
      "[2, 0.35293513536453247, 0.2709469795227051, '00:00']\n",
      "[3, 0.2881565988063812, 0.27068760991096497, '00:00']\n",
      "[3, 0.2881565988063812, 0.27068760991096497, '00:00']\n",
      "[4, 0.27384451031684875, 0.2707675099372864, '00:00']\n",
      "[4, 0.27384451031684875, 0.2707675099372864, '00:00']\n",
      "[5, 0.27107658982276917, 0.27418962121009827, '00:00']\n",
      "[5, 0.27107658982276917, 0.27418962121009827, '00:00']\n",
      "[6, 0.27121424674987793, 0.2775905132293701, '00:00']\n",
      "[6, 0.27121424674987793, 0.2775905132293701, '00:00']\n",
      "[7, 0.2717898190021515, 0.2777087092399597, '00:00']\n",
      "[7, 0.2717898190021515, 0.2777087092399597, '00:00']\n",
      "[8, 0.27362629771232605, 0.26990997791290283, '00:01']\n",
      "[8, 0.27362629771232605, 0.26990997791290283, '00:01']\n",
      "[9, 0.2243773192167282, 0.1757873296737671, '00:00']\n",
      "[9, 0.2243773192167282, 0.1757873296737671, '00:00']\n",
      "[10, 0.1583239883184433, 0.09654517471790314, '00:00']\n",
      "[10, 0.1583239883184433, 0.09654517471790314, '00:00']\n",
      "[11, 0.1012384369969368, 0.08731116354465485, '00:00']\n",
      "[11, 0.1012384369969368, 0.08731116354465485, '00:00']\n",
      "[12, 0.06771395355463028, 0.02772516757249832, '00:00']\n",
      "[12, 0.06771395355463028, 0.02772516757249832, '00:00']\n",
      "[13, 0.039304785430431366, 0.017103346064686775, '00:00']\n",
      "[13, 0.039304785430431366, 0.017103346064686775, '00:00']\n",
      "[14, 0.028142187744379044, 0.007745121140033007, '00:00']\n",
      "[14, 0.028142187744379044, 0.007745121140033007, '00:00']\n",
      "[15, 0.027881154790520668, 0.018069040030241013, '00:00']\n",
      "[15, 0.027881154790520668, 0.018069040030241013, '00:00']\n",
      "[16, 0.023350484669208527, 0.01686704531311989, '00:00']\n",
      "[16, 0.023350484669208527, 0.01686704531311989, '00:00']\n",
      "[17, 0.030482402071356773, 0.020611058920621872, '00:00']\n",
      "[17, 0.030482402071356773, 0.020611058920621872, '00:00']\n",
      "[18, 0.023801760748028755, 0.01962265558540821, '00:00']\n",
      "[18, 0.023801760748028755, 0.01962265558540821, '00:00']\n",
      "[19, 0.027432426810264587, 0.024635113775730133, '00:00']\n",
      "[19, 0.027432426810264587, 0.024635113775730133, '00:00']\n",
      "[20, 0.026216331869363785, 0.03270045667886734, '00:00']\n",
      "[20, 0.026216331869363785, 0.03270045667886734, '00:00']\n",
      "[21, 0.02404262311756611, 0.026112500578165054, '00:00']\n",
      "[21, 0.02404262311756611, 0.026112500578165054, '00:00']\n",
      "[22, 0.023249894380569458, 0.06883663684129715, '00:00']\n",
      "[22, 0.023249894380569458, 0.06883663684129715, '00:00']\n",
      "[23, 0.0332229919731617, 0.006715686060488224, '00:00']\n",
      "[23, 0.0332229919731617, 0.006715686060488224, '00:00']\n",
      "[24, 0.03495055064558983, 0.019390007480978966, '00:00']\n",
      "[24, 0.03495055064558983, 0.019390007480978966, '00:00']\n",
      "[25, 0.020542213693261147, 0.006238129455596209, '00:00']\n",
      "[25, 0.020542213693261147, 0.006238129455596209, '00:00']\n",
      "[26, 0.02227991260588169, 0.00921056792140007, '00:00']\n",
      "[26, 0.02227991260588169, 0.00921056792140007, '00:00']\n",
      "[27, 0.0219411663711071, 0.013875213451683521, '00:00']\n",
      "[27, 0.0219411663711071, 0.013875213451683521, '00:00']\n",
      "[28, 0.022937042638659477, 0.054832689464092255, '00:00']\n",
      "[28, 0.022937042638659477, 0.054832689464092255, '00:00']\n",
      "[29, 0.022110452875494957, 0.006994441617280245, '00:00']\n",
      "[29, 0.022110452875494957, 0.006994441617280245, '00:00']\n",
      "[30, 0.01948077790439129, 0.009651844389736652, '00:00']\n",
      "[30, 0.01948077790439129, 0.009651844389736652, '00:00']\n",
      "[31, 0.016001315787434578, 0.013334840536117554, '00:00']\n",
      "[31, 0.016001315787434578, 0.013334840536117554, '00:00']\n",
      "[32, 0.01625697873532772, 0.0048929862678050995, '00:00']\n",
      "[32, 0.01625697873532772, 0.0048929862678050995, '00:00']\n",
      "[33, 0.017384452745318413, 0.051631417125463486, '00:00']\n",
      "[33, 0.017384452745318413, 0.051631417125463486, '00:00']\n",
      "[34, 0.01669137179851532, 0.01033352967351675, '00:00']\n",
      "[34, 0.01669137179851532, 0.01033352967351675, '00:00']\n",
      "[35, 0.014052201062440872, 0.0245526023209095, '00:00']\n",
      "[35, 0.014052201062440872, 0.0245526023209095, '00:00']\n",
      "[36, 0.013226413168013096, 0.008564471267163754, '00:00']\n",
      "[36, 0.013226413168013096, 0.008564471267163754, '00:00']\n",
      "[37, 0.010276422835886478, 0.0026933287736028433, '00:00']\n",
      "[37, 0.010276422835886478, 0.0026933287736028433, '00:00']\n",
      "[38, 0.012091772630810738, 0.004372450988739729, '00:00']\n",
      "[38, 0.012091772630810738, 0.004372450988739729, '00:00']\n",
      "[39, 0.009393473155796528, 0.008436581119894981, '00:00']\n",
      "[39, 0.009393473155796528, 0.008436581119894981, '00:00']\n",
      "[40, 0.009200810454785824, 0.0033821568358689547, '00:00']\n",
      "[40, 0.009200810454785824, 0.0033821568358689547, '00:00']\n",
      "[41, 0.0076262266375124454, 0.003609870793297887, '00:00']\n",
      "[41, 0.0076262266375124454, 0.003609870793297887, '00:00']\n",
      "[42, 0.009478594176471233, 0.009020891040563583, '00:00']\n",
      "[42, 0.009478594176471233, 0.009020891040563583, '00:00']\n",
      "[43, 0.008098924532532692, 0.010755040682852268, '00:00']\n",
      "[43, 0.008098924532532692, 0.010755040682852268, '00:00']\n",
      "[44, 0.006869901902973652, 0.008423286490142345, '00:00']\n",
      "[44, 0.006869901902973652, 0.008423286490142345, '00:00']\n",
      "[45, 0.006908069364726543, 0.009723289869725704, '00:00']\n",
      "[45, 0.006908069364726543, 0.009723289869725704, '00:00']\n",
      "[46, 0.005356777925044298, 0.0024458093103021383, '00:00']\n",
      "[46, 0.005356777925044298, 0.0024458093103021383, '00:00']\n",
      "[47, 0.006040352396667004, 0.0018877554684877396, '00:00']\n",
      "[47, 0.006040352396667004, 0.0018877554684877396, '00:00']\n",
      "[48, 0.004805911798030138, 0.002178163267672062, '00:00']\n",
      "[48, 0.004805911798030138, 0.002178163267672062, '00:00']\n",
      "[49, 0.004361392930150032, 0.007845553569495678, '00:00']\n",
      "[49, 0.004361392930150032, 0.007845553569495678, '00:00']\n",
      "[50, 0.004015006590634584, 0.004950880538672209, '00:00']\n",
      "[50, 0.004015006590634584, 0.004950880538672209, '00:00']\n",
      "[51, 0.0034055199939757586, 0.002899567363783717, '00:00']\n",
      "[51, 0.0034055199939757586, 0.002899567363783717, '00:00']\n",
      "[52, 0.0030632619746029377, 0.0011955383233726025, '00:00']\n",
      "[52, 0.0030632619746029377, 0.0011955383233726025, '00:00']\n",
      "[53, 0.0036740817595273256, 0.0036329987924546003, '00:00']\n",
      "[53, 0.0036740817595273256, 0.0036329987924546003, '00:00']\n",
      "[54, 0.0030744639225304127, 0.0023830935824662447, '00:00']\n",
      "[54, 0.0030744639225304127, 0.0023830935824662447, '00:00']\n",
      "[55, 0.003304596757516265, 0.005732405930757523, '00:00']\n",
      "[55, 0.003304596757516265, 0.005732405930757523, '00:00']\n",
      "[56, 0.002519905101507902, 0.0016411718679592013, '00:00']\n",
      "[56, 0.002519905101507902, 0.0016411718679592013, '00:00']\n",
      "[57, 0.0018109846860170364, 0.001464054686948657, '00:00']\n",
      "[57, 0.0018109846860170364, 0.001464054686948657, '00:00']\n",
      "[58, 0.0017485303105786443, 0.0005614337860606611, '00:00']\n",
      "[58, 0.0017485303105786443, 0.0005614337860606611, '00:00']\n",
      "[59, 0.0025680148974061012, 0.0011251709656789899, '00:00']\n",
      "[59, 0.0025680148974061012, 0.0011251709656789899, '00:00']\n",
      "[60, 0.0014605531468987465, 0.003184872679412365, '00:00']\n",
      "[60, 0.0014605531468987465, 0.003184872679412365, '00:00']\n",
      "[61, 0.0011944351717829704, 0.004076106008142233, '00:00']\n",
      "[61, 0.0011944351717829704, 0.004076106008142233, '00:00']\n",
      "[62, 0.0013740506255999207, 0.0006099604652263224, '00:00']\n",
      "[62, 0.0013740506255999207, 0.0006099604652263224, '00:00']\n",
      "[63, 0.0009800480911508203, 0.0005471854819916189, '00:00']\n",
      "[63, 0.0009800480911508203, 0.0005471854819916189, '00:00']\n",
      "[64, 0.001220808713696897, 0.0003553084679879248, '00:00']\n",
      "[64, 0.001220808713696897, 0.0003553084679879248, '00:00']\n",
      "[65, 0.0010027886601164937, 0.0011537224054336548, '00:00']\n",
      "[65, 0.0010027886601164937, 0.0011537224054336548, '00:00']\n",
      "[66, 0.0006012786761857569, 0.0004380885511636734, '00:00']\n",
      "[66, 0.0006012786761857569, 0.0004380885511636734, '00:00']\n",
      "[67, 0.0005806305562146008, 0.00039764150278642774, '00:00']\n",
      "[67, 0.0005806305562146008, 0.00039764150278642774, '00:00']\n",
      "[68, 0.000494888168759644, 0.00037720741238445044, '00:00']\n",
      "[68, 0.000494888168759644, 0.00037720741238445044, '00:00']\n",
      "[69, 0.00045851830509491265, 0.0003471159434411675, '00:00']\n",
      "[69, 0.00045851830509491265, 0.0003471159434411675, '00:00']\n",
      "[70, 0.00040091577102430165, 0.0001786121865734458, '00:00']\n",
      "[70, 0.00040091577102430165, 0.0001786121865734458, '00:00']\n",
      "[71, 0.00033264391822740436, 0.00036214577266946435, '00:00']\n",
      "[71, 0.00033264391822740436, 0.00036214577266946435, '00:00']\n"
     ]
    },
    {
     "name": "stdout",
     "output_type": "stream",
     "text": [
      "[72, 0.00029671151423826814, 0.00023020792286843061, '00:00']\n",
      "[72, 0.00029671151423826814, 0.00023020792286843061, '00:00']\n",
      "[73, 0.0002634443808346987, 0.00018296657071914524, '00:00']\n",
      "[73, 0.0002634443808346987, 0.00018296657071914524, '00:00']\n",
      "[74, 0.0002554886741563678, 0.00019715703092515469, '00:00']\n",
      "[74, 0.0002554886741563678, 0.00019715703092515469, '00:00']\n",
      "[75, 0.00016742764273658395, 0.00010258975089527667, '00:00']\n",
      "[75, 0.00016742764273658395, 0.00010258975089527667, '00:00']\n",
      "[76, 0.0001545568957226351, 0.00013654502981808037, '00:00']\n",
      "[76, 0.0001545568957226351, 0.00013654502981808037, '00:00']\n",
      "[77, 0.000118765834486112, 0.00012910840450786054, '00:00']\n",
      "[77, 0.000118765834486112, 0.00012910840450786054, '00:00']\n",
      "[78, 0.00010997162462444976, 7.301895675482228e-05, '00:00']\n",
      "[78, 0.00010997162462444976, 7.301895675482228e-05, '00:00']\n",
      "[79, 9.088710066862404e-05, 6.649672286584973e-05, '00:00']\n",
      "[79, 9.088710066862404e-05, 6.649672286584973e-05, '00:00']\n",
      "[80, 7.822749466868117e-05, 0.00010316897532902658, '00:00']\n",
      "[80, 7.822749466868117e-05, 0.00010316897532902658, '00:00']\n",
      "[81, 7.545577682321891e-05, 5.9735924878623337e-05, '00:00']\n",
      "[81, 7.545577682321891e-05, 5.9735924878623337e-05, '00:00']\n",
      "[82, 5.962244176771492e-05, 7.569771696580574e-05, '00:00']\n",
      "[82, 5.962244176771492e-05, 7.569771696580574e-05, '00:00']\n",
      "[83, 4.731661465484649e-05, 7.457274477928877e-05, '00:00']\n",
      "[83, 4.731661465484649e-05, 7.457274477928877e-05, '00:00']\n",
      "[84, 4.250195706845261e-05, 4.357088982942514e-05, '00:00']\n",
      "[84, 4.250195706845261e-05, 4.357088982942514e-05, '00:00']\n",
      "[85, 4.8913345381151885e-05, 4.153444024268538e-05, '00:00']\n",
      "[85, 4.8913345381151885e-05, 4.153444024268538e-05, '00:00']\n",
      "[86, 3.4160271752625704e-05, 3.1840463634580374e-05, '00:00']\n",
      "[86, 3.4160271752625704e-05, 3.1840463634580374e-05, '00:00']\n",
      "[87, 3.399901106604375e-05, 3.0033061193535104e-05, '00:00']\n",
      "[87, 3.399901106604375e-05, 3.0033061193535104e-05, '00:00']\n",
      "[88, 2.9289467420312576e-05, 2.9037228159722872e-05, '00:00']\n",
      "[88, 2.9289467420312576e-05, 2.9037228159722872e-05, '00:00']\n",
      "[89, 2.7043448426411487e-05, 3.528579691192135e-05, '00:00']\n",
      "[89, 2.7043448426411487e-05, 3.528579691192135e-05, '00:00']\n",
      "[90, 2.679632780200336e-05, 2.707619933062233e-05, '00:00']\n",
      "[90, 2.679632780200336e-05, 2.707619933062233e-05, '00:00']\n",
      "[91, 2.4396578737650998e-05, 2.2452637495007366e-05, '00:00']\n",
      "[91, 2.4396578737650998e-05, 2.2452637495007366e-05, '00:00']\n",
      "[92, 2.1450254280352965e-05, 2.135716931661591e-05, '00:00']\n",
      "[92, 2.1450254280352965e-05, 2.135716931661591e-05, '00:00']\n",
      "[93, 2.017970291490201e-05, 2.0492912881309167e-05, '00:00']\n",
      "[93, 2.017970291490201e-05, 2.0492912881309167e-05, '00:00']\n",
      "[94, 1.9263135982328095e-05, 1.9456909285509028e-05, '00:00']\n",
      "[94, 1.9263135982328095e-05, 1.9456909285509028e-05, '00:00']\n",
      "[95, 1.8676813851925544e-05, 1.878702823887579e-05, '00:00']\n",
      "[95, 1.8676813851925544e-05, 1.878702823887579e-05, '00:00']\n",
      "[96, 1.810004687285982e-05, 1.859266558312811e-05, '00:00']\n",
      "[96, 1.810004687285982e-05, 1.859266558312811e-05, '00:00']\n",
      "[97, 1.7543727153679356e-05, 1.8522066966397688e-05, '00:00']\n",
      "[97, 1.7543727153679356e-05, 1.8522066966397688e-05, '00:00']\n",
      "[98, 1.7226939235115424e-05, 1.8240418285131454e-05, '00:00']\n",
      "[98, 1.7226939235115424e-05, 1.8240418285131454e-05, '00:00']\n",
      "[99, 1.715170765237417e-05, 1.8202850696980022e-05, '00:00']\n",
      "[99, 1.715170765237417e-05, 1.8202850696980022e-05, '00:00']\n",
      "Training took 84.698638454 seconds\n"
     ]
    }
   ],
   "source": [
    "import time\n",
    "\n",
    "start = time.perf_counter() # Starts timer\n",
    "# recreate learner object with lr_min\n",
    "learn = learner.Learner(dls, model=model, wd=wd, loss_func=loss_func, cbs=recorder, lr=lr_min)\n",
    "learn.fit_one_cycle(n_epoch=100)\n",
    "# learn.fit_one_cycle(n_epoch=100, lr=lr_min)\n",
    "end = time.perf_counter() # Ends timer\n",
    "delta_t = end - start\n",
    "print('Training took', delta_t, 'seconds')"
   ]
  },
  {
   "cell_type": "markdown",
   "metadata": {},
   "source": [
    "Then we plot the loss as a function of batches and epochs to check if we reach a plateau."
   ]
  },
  {
   "cell_type": "code",
   "execution_count": 12,
   "metadata": {},
   "outputs": [
    {
     "data": {
      "image/png": "[encoded data removed]",
      "text/plain": [
       "<Figure size 432x288 with 1 Axes>"
      ]
     },
     "metadata": {
      "needs_background": "light"
     },
     "output_type": "display_data"
    }
   ],
   "source": [
    "recorder.plot_loss()"
   ]
  },
  {
   "cell_type": "markdown",
   "metadata": {},
   "source": [
    "Then we evaluate the MSE on this network - it should be of the order of 0.001 or less if all has gone well...if it has not trained as well (note the pesky 0-mass peak above...) then it's going to be a bit higher."
   ]
  },
  {
   "cell_type": "code",
   "execution_count": 13,
   "metadata": {},
   "outputs": [
    {
     "data": {
      "text/plain": [
       "(#1) [1.8202850696980022e-05]"
      ]
     },
     "execution_count": 13,
     "metadata": {},
     "output_type": "execute_result"
    }
   ],
   "source": [
    "learn.validate()"
   ]
  },
  {
   "cell_type": "markdown",
   "metadata": {},
   "source": [
    "Let's plot all of this, with ratios (thanks to code by Erik Wallin)"
   ]
  },
  {
   "cell_type": "markdown",
   "metadata": {},
   "source": [
    "## Plotting the outputs of the network"
   ]
  },
  {
   "cell_type": "markdown",
   "metadata": {},
   "source": [
    "Lazy-save of our output files (they'll also be on screen)"
   ]
  },
  {
   "cell_type": "code",
   "execution_count": 14,
   "metadata": {},
   "outputs": [],
   "source": [
    "import os\n",
    "save_dir = \"plotOutput\"\n",
    "if not os.path.exists(save_dir):\n",
    "    os.makedirs(save_dir)"
   ]
  },
  {
   "cell_type": "markdown",
   "metadata": {},
   "source": [
    "A function in case we want to un-normalize and get back to physical quantities..."
   ]
  },
  {
   "cell_type": "code",
   "execution_count": 15,
   "metadata": {},
   "outputs": [],
   "source": [
    "def custom_unnormalize(df):\n",
    "    df['eta'] = df['eta'] * 5\n",
    "    df['phi'] = df['phi'] * 3\n",
    "    df['E'] = 10**df['E']\n",
    "#     df['m'] = 10**df['m'] # replace m with E\n",
    "    df['pt'] = 10**(df['pt'])\n",
    "    return df"
   ]
  },
  {
   "cell_type": "markdown",
   "metadata": {},
   "source": [
    "Make the histograms from the dataset...\n",
    "\n",
    "- Histograms depicting normalized data\n",
    "- Histograms depicting unnormalized data"
   ]
  },
  {
   "cell_type": "markdown",
   "metadata": {},
   "source": [
    "Histograms depicting normalized data"
   ]
  },
  {
   "cell_type": "code",
   "execution_count": 16,
   "metadata": {},
   "outputs": [
    {
     "data": {
      "image/png": "[encoded data removed]",
      "text/plain": [
       "<Figure size 432x288 with 1 Axes>"
      ]
     },
     "metadata": {
      "needs_background": "light"
     },
     "output_type": "display_data"
    },
    {
     "data": {
      "image/png": "[encoded data removed]",
      "text/plain": [
       "<Figure size 432x288 with 1 Axes>"
      ]
     },
     "metadata": {
      "needs_background": "light"
     },
     "output_type": "display_data"
    },
    {
     "data": {
      "image/png": "[encoded data removed]",
      "text/plain": [
       "<Figure size 432x288 with 1 Axes>"
      ]
     },
     "metadata": {
      "needs_background": "light"
     },
     "output_type": "display_data"
    },
    {
     "data": {
      "image/png": "[encoded data removed]",
      "text/plain": [
       "<Figure size 432x288 with 1 Axes>"
      ]
     },
     "metadata": {
      "needs_background": "light"
     },
     "output_type": "display_data"
    }
   ],
   "source": [
    "import numpy as np\n",
    "\n",
    "plt.close('all')\n",
    "unit_list = ['[GeV]', '[rad]', '[rad]', '[GeV]']\n",
    "variable_list = [ r'$E$', r'$pt$', r'$\\eta$', r'$\\phi$']\n",
    "line_style = ['--', '-']\n",
    "colors = ['orange', 'c']\n",
    "markers = ['*', 's']\n",
    "\n",
    "model.to('cpu')\n",
    "\n",
    "save = True # Option to save figure\n",
    "\n",
    "# Histograms\n",
    "idxs = (0, 100000)  # Choose events to compare\n",
    "data = torch.tensor(test[idxs[0]:idxs[1]].values, dtype=torch.float)\n",
    "#data = torch.tensor(test[idxs[0]:idxs[1]].values, dtype=torch.float).double()\n",
    "pred = model(data)\n",
    "pred = pred.detach().numpy()\n",
    "data = data.detach().numpy()\n",
    "data_df = pd.DataFrame(data, columns=test.columns)\n",
    "pred_df = pd.DataFrame(pred, columns=test.columns)  \n",
    "    \n",
    "alph = 0.8\n",
    "n_bins = 200\n",
    "for kk in np.arange(4):\n",
    "    plt.figure()\n",
    "    n_hist_data, bin_edges, _ = plt.hist(data[:, kk], color=colors[1], label='Input', alpha=1, bins=n_bins)\n",
    "    n_hist_pred, _, _ = plt.hist(pred[:, kk], color=colors[0], label='Output', alpha=alph, bins=bin_edges)\n",
    "    plt.suptitle(test.columns[kk])\n",
    "    plt.xlabel(test.columns[kk])\n",
    "    plt.ylabel('Number of events')\n",
    "    # ms.sciy()\n",
    "    plt.yscale('log')\n",
    "    if save:\n",
    "        plt.savefig(os.path.join(save_dir,test.columns[kk]+'_normalized.png'))\n",
    "    plt.legend()"
   ]
  },
  {
   "cell_type": "markdown",
   "metadata": {},
   "source": [
    "Histograms depicting unnormalized data"
   ]
  },
  {
   "cell_type": "code",
   "execution_count": 17,
   "metadata": {},
   "outputs": [
    {
     "data": {
      "image/png": "[encoded data removed]",
      "text/plain": [
       "<Figure size 432x288 with 1 Axes>"
      ]
     },
     "metadata": {
      "needs_background": "light"
     },
     "output_type": "display_data"
    },
    {
     "data": {
      "image/png": "[encoded data removed]",
      "text/plain": [
       "<Figure size 432x288 with 1 Axes>"
      ]
     },
     "metadata": {
      "needs_background": "light"
     },
     "output_type": "display_data"
    },
    {
     "data": {
      "image/png": "[encoded data removed]",
      "text/plain": [
       "<Figure size 432x288 with 1 Axes>"
      ]
     },
     "metadata": {
      "needs_background": "light"
     },
     "output_type": "display_data"
    },
    {
     "data": {
      "image/png": "[encoded data removed]",
      "text/plain": [
       "<Figure size 432x288 with 1 Axes>"
      ]
     },
     "metadata": {
      "needs_background": "light"
     },
     "output_type": "display_data"
    }
   ],
   "source": [
    "import numpy as np\n",
    "\n",
    "plt.close('all')\n",
    "unit_list = ['[GeV]', '[rad]', '[rad]', '[GeV]']\n",
    "variable_list = [ r'$E$', r'$pt$', r'$\\eta$', r'$\\phi$']\n",
    "line_style = ['--', '-']\n",
    "colors = ['orange', 'c']\n",
    "markers = ['*', 's']\n",
    "\n",
    "model.to('cpu')\n",
    "\n",
    "save = True # Option to save figure\n",
    "\n",
    "# Histograms\n",
    "idxs = (0, 100000)  # Choose events to compare\n",
    "data = torch.tensor(test[idxs[0]:idxs[1]].values, dtype=torch.float)\n",
    "#data = torch.tensor(test[idxs[0]:idxs[1]].values, dtype=torch.float).double()\n",
    "pred = model(data)\n",
    "pred = pred.detach().numpy()\n",
    "data = data.detach().numpy()\n",
    "data_df = pd.DataFrame(data, columns=test.columns)\n",
    "pred_df = pd.DataFrame(pred, columns=test.columns)\n",
    "\n",
    "unnormalized_data_df = custom_unnormalize(data_df)\n",
    "unnormalized_pred_df = custom_unnormalize(pred_df)    \n",
    "    \n",
    "alph = 0.8\n",
    "n_bins = 200\n",
    "for kk in np.arange(4):\n",
    "    plt.figure()\n",
    "    n_hist_data, bin_edges, _ = plt.hist(data[:, kk], color=colors[1], label='Input', alpha=1, bins=n_bins)\n",
    "    n_hist_pred, _, _ = plt.hist(pred[:, kk], color=colors[0], label='Output', alpha=alph, bins=bin_edges)\n",
    "    plt.suptitle(test.columns[kk])\n",
    "    plt.xlabel(test.columns[kk])\n",
    "    plt.ylabel('Number of events')\n",
    "    # ms.sciy()\n",
    "    plt.yscale('log')\n",
    "    if save:\n",
    "        plt.savefig(os.path.join(save_dir,test.columns[kk]+'_unnormalized.png'))\n",
    "    plt.legend()"
   ]
  },
  {
   "cell_type": "code",
   "execution_count": 18,
   "metadata": {},
   "outputs": [],
   "source": [
    "def getRatio(bin1,bin2):\n",
    "    bins = []\n",
    "    for b1,b2 in zip(bin1,bin2):\n",
    "        if b1==0 and b2==0:\n",
    "            bins.append(0.)\n",
    "        elif b2==0:\n",
    "            bins.append(None)\n",
    "        else:\n",
    "            bins.append((float(b2)-float(b1))/b1)\n",
    "    return bins   \n",
    "\n",
    "rat = getRatio(n_hist_data,n_hist_pred)\n",
    "# print(rat)"
   ]
  }
 ],
 "metadata": {
  "kernelspec": {
   "display_name": "Python [conda env:hcf]",
   "language": "python",
   "name": "conda-env-hcf-py"
  },
  "language_info": {
   "codemirror_mode": {
    "name": "ipython",
    "version": 3
   },
   "file_extension": ".py",
   "mimetype": "text/x-python",
   "name": "python",
   "nbconvert_exporter": "python",
   "pygments_lexer": "ipython3",
   "version": "3.8.8"
  }
 },
 "nbformat": 4,
 "nbformat_minor": 4
}
