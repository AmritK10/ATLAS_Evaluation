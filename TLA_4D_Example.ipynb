{
 "cells": [
  {
   "cell_type": "markdown",
   "metadata": {},
   "source": [
    "In this notebook, we will run a ready-made network starting from some ATLAS data, which is already normalized. There is also an alternative to train the network from scratch.  "
   ]
  },
  {
   "cell_type": "markdown",
   "metadata": {},
   "source": [
    "## Look into the dataset"
   ]
  },
  {
   "cell_type": "markdown",
   "metadata": {},
   "source": [
    "First we need to make sure that Python 3.8 is used in the notebook. It is required in order to open this certain .pkl-file. "
   ]
  },
  {
   "cell_type": "code",
   "execution_count": 1,
   "metadata": {},
   "outputs": [],
   "source": [
    "import sys\n",
    "sys.version"
   ]
  },
  {
   "cell_type": "markdown",
   "metadata": {},
   "source": [
    "We take a pickle dataset, and open into Pandas (after importing pandas). Note that you have to change the paths to the directory where your processed files are. "
   ]
  },
  {
   "cell_type": "code",
   "execution_count": 2,
   "metadata": {},
   "outputs": [
    {
     "name": "stdout",
     "output_type": "stream",
     "text": [
      "Training sample:\n",
      "          E        pt       eta       phi\n",
      "0  4.906713  4.700341 -0.349047 -0.590943\n",
      "1  6.347139  5.855345  0.599470 -1.025347\n",
      "2  5.997825  5.637058  0.490727 -0.623413\n",
      "3  5.372660  4.761313  0.694790  0.697643\n",
      "4  5.797168  5.707606 -0.218154  0.219345\n",
      "\n",
      "\n",
      "Testing sample:\n",
      "          E        pt       eta       phi\n",
      "0  5.154570  4.361824 -0.837267  0.611330\n",
      "1  5.669887  5.194112  0.585920 -0.487810\n",
      "2  5.136172  4.816144 -0.455033  0.025235\n",
      "3  5.028673  4.574284  0.568423 -0.929800\n",
      "4  6.243935  4.664594 -1.443177 -0.803610\n",
      "\n",
      "\n",
      "The number of entries in the training data: 18128\n",
      "The number of entries in the validation data: 4533\n"
     ]
    }
   ],
   "source": [
    "import pandas as pd\n",
    "\n",
    "# Change these paths to point to where you have stored the datasets. \n",
    "train_path = 'train_jet_objects.pkl'\n",
    "test_path = 'test_jet_objects.pkl'\n",
    "\n",
    "# Reads the .pkl-files with Pandas\n",
    "train = pd.read_pickle(train_path)\n",
    "test = pd.read_pickle(test_path)\n",
    "\n",
    "# To get an idea of the order of magnitude we are going to see in the plots we show the first elements \n",
    "# in the samples:\n",
    "print('Training sample:')\n",
    "print(train.head())\n",
    "\n",
    "print('\\n')\n",
    "\n",
    "print('Testing sample:')\n",
    "print(test.head())\n",
    "\n",
    "print('\\n')\n",
    "\n",
    "print('The number of entries in the training data:', len(train))\n",
    "print('The number of entries in the validation data:', len(test))"
   ]
  },
  {
   "cell_type": "markdown",
   "metadata": {},
   "source": [
    "Now we plot the data using the matplotlib library. The units reflect the normalization, but it's the shape that we care about. "
   ]
  },
  {
   "cell_type": "code",
   "execution_count": 3,
   "metadata": {},
   "outputs": [
    {
     "data": {
      "image/png": "[encoded data removed]",
      "text/plain": [
       "<Figure size 432x288 with 1 Axes>"
      ]
     },
     "metadata": {
      "needs_background": "light"
     },
     "output_type": "display_data"
    },
    {
     "data": {
      "image/png": "[encoded data removed]",
      "text/plain": [
       "<Figure size 432x288 with 1 Axes>"
      ]
     },
     "metadata": {
      "needs_background": "light"
     },
     "output_type": "display_data"
    },
    {
     "data": {
      "image/png": "[encoded data removed]",
      "text/plain": [
       "<Figure size 432x288 with 1 Axes>"
      ]
     },
     "metadata": {
      "needs_background": "light"
     },
     "output_type": "display_data"
    },
    {
     "data": {
      "image/png": "[encoded data removed]",
      "text/plain": [
       "<Figure size 432x288 with 1 Axes>"
      ]
     },
     "metadata": {
      "needs_background": "light"
     },
     "output_type": "display_data"
    }
   ],
   "source": [
    "import matplotlib.pyplot as plt\n",
    "\n",
    "unit_list = ['[log(GeV)]', '[rad/3]', '[rad/3]', '[log(GeV)]']\n",
    "variable_list = [r'$pt$', r'$\\eta$', r'$\\phi$', r'$E$'] # replace m with E\n",
    "\n",
    "branches=[\"pt\",\"eta\",\"phi\",\"E\"] # replace m with E\n",
    "\n",
    "n_bins = 100\n",
    "\n",
    "for kk in range(0,4):\n",
    "    n_hist_data, bin_edges, _ = plt.hist(train[branches[kk]], color='gray', label='Input', alpha=1, bins=n_bins)\n",
    "    plt.xlabel(xlabel=variable_list[kk] + ' ' + unit_list[kk])\n",
    "    plt.ylabel('# of events')\n",
    "    #plt.savefig(\"fourmomentum_\"+branches[kk],dpi=300)\n",
    "    plt.show()"
   ]
  },
  {
   "cell_type": "markdown",
   "metadata": {},
   "source": [
    "## Setting up the network"
   ]
  },
  {
   "cell_type": "markdown",
   "metadata": {},
   "source": [
    "### Preparing the data"
   ]
  },
  {
   "cell_type": "markdown",
   "metadata": {},
   "source": [
    "Adding the two datasets as TensorDatasets to PyTorch (also loading all other classes we'll need later)"
   ]
  },
  {
   "cell_type": "code",
   "execution_count": 4,
   "metadata": {},
   "outputs": [],
   "source": [
    "import torch\n",
    "import torch.nn as nn\n",
    "import torch.optim as optim\n",
    "import torch.utils.data\n",
    "from torch.autograd import Variable\n",
    "\n",
    "from torch.utils.data import TensorDataset\n",
    "from torch.utils.data import DataLoader\n",
    "\n",
    "from fastai import learner\n",
    "from fastai.data import core\n",
    "\n",
    "train_x = train\n",
    "test_x = test\n",
    "train_y = train_x  # y = x since we are building an autoencoder\n",
    "test_y = test_x\n",
    "\n",
    "# Constructs a tensor object of the data and wraps them in a TensorDataset object.\n",
    "train_ds = TensorDataset(torch.tensor(train_x.values, dtype=torch.float), torch.tensor(train_y.values, dtype=torch.float))\n",
    "valid_ds = TensorDataset(torch.tensor(test_x.values, dtype=torch.float), torch.tensor(test_y.values, dtype=torch.float))\n"
   ]
  },
  {
   "cell_type": "markdown",
   "metadata": {},
   "source": [
    "We now set things up to load the data, and we use a batch size that was optimized by previous students...note also that this is fastai v2, migration thanks to Jessica Lastow."
   ]
  },
  {
   "cell_type": "code",
   "execution_count": 5,
   "metadata": {},
   "outputs": [],
   "source": [
    "bs = 256\n",
    "\n",
    "# Converts the TensorDataset into a DataLoader object and combines into one DataLoaders object (a basic wrapper\n",
    "# around several DataLoader objects). \n",
    "train_dl = DataLoader(train_ds, batch_size=bs, shuffle=True)\n",
    "valid_dl = DataLoader(valid_ds, batch_size=bs * 2)\n",
    "dls = core.DataLoaders(train_dl, valid_dl)"
   ]
  },
  {
   "cell_type": "markdown",
   "metadata": {},
   "source": [
    "### Preparing the network"
   ]
  },
  {
   "cell_type": "markdown",
   "metadata": {},
   "source": [
    "Here we have an example network. Details aren't too important, as long as they match what was already trained for us...in this case we have a LeakyReLU, tanh activation function, and a number of layers that goes from 4 to 200 to 20 to 3 (number of features in the hidden layer that we pick for testing compression) and then back all the way to 4. "
   ]
  },
  {
   "cell_type": "code",
   "execution_count": 6,
   "metadata": {},
   "outputs": [
    {
     "data": {
      "text/plain": [
       "AE_3D_200_LeakyReLU(\n",
       "  (en1): Linear(in_features=4, out_features=200, bias=True)\n",
       "  (en2): Linear(in_features=200, out_features=200, bias=True)\n",
       "  (en3): Linear(in_features=200, out_features=20, bias=True)\n",
       "  (en4): Linear(in_features=20, out_features=3, bias=True)\n",
       "  (de1): Linear(in_features=3, out_features=20, bias=True)\n",
       "  (de2): Linear(in_features=20, out_features=200, bias=True)\n",
       "  (de3): Linear(in_features=200, out_features=200, bias=True)\n",
       "  (de4): Linear(in_features=200, out_features=4, bias=True)\n",
       "  (tanh): Tanh()\n",
       ")"
      ]
     },
     "execution_count": 6,
     "metadata": {},
     "output_type": "execute_result"
    }
   ],
   "source": [
    "class AE_3D_200_LeakyReLU(nn.Module):\n",
    "    def __init__(self, n_features=4):\n",
    "        super(AE_3D_200_LeakyReLU, self).__init__()\n",
    "        self.en1 = nn.Linear(n_features, 200)\n",
    "        self.en2 = nn.Linear(200, 200)\n",
    "        self.en3 = nn.Linear(200, 20)\n",
    "        self.en4 = nn.Linear(20, 3)\n",
    "        self.de1 = nn.Linear(3, 20)\n",
    "        self.de2 = nn.Linear(20, 200)\n",
    "        self.de3 = nn.Linear(200, 200)\n",
    "        self.de4 = nn.Linear(200, n_features)\n",
    "        self.tanh = nn.Tanh()\n",
    "\n",
    "    def encode(self, x):\n",
    "        return self.en4(self.tanh(self.en3(self.tanh(self.en2(self.tanh(self.en1(x)))))))\n",
    "\n",
    "    def decode(self, x):\n",
    "        return self.de4(self.tanh(self.de3(self.tanh(self.de2(self.tanh(self.de1(self.tanh(x))))))))\n",
    "\n",
    "    def forward(self, x):\n",
    "        z = self.encode(x)\n",
    "        return self.decode(z)\n",
    "\n",
    "    def describe(self):\n",
    "        return 'in-200-200-20-3-20-200-200-out'\n",
    "\n",
    "#model = AE_3D_200_LeakyReLU().double()\n",
    "model = AE_3D_200_LeakyReLU()\n",
    "model.to('cpu')"
   ]
  },
  {
   "cell_type": "markdown",
   "metadata": {},
   "source": [
    "We now have to pick a loss function - MSE loss is appropriate for a compression autoencoder since it reflects the [(input-output)/input] physical quantity that we want to minimize. "
   ]
  },
  {
   "cell_type": "code",
   "execution_count": 7,
   "metadata": {},
   "outputs": [],
   "source": [
    "from fastai.metrics import mse\n",
    "\n",
    "loss_func = nn.MSELoss()\n",
    "\n",
    "#bn_wd = False  # Don't use weight decay for batchnorm layers\n",
    "#true_wd = True  # weight decay will be used for all optimizers\n",
    "wd = 1e-6\n",
    "\n",
    "recorder = learner.Recorder()\n",
    "learn = learner.Learner(dls, model=model, wd=wd, loss_func=loss_func, cbs=recorder)\n",
    "#was: learn = basic_train.Learner(data=db, model=model, loss_func=loss_func, wd=wd, callback_fns=ActivationStats, bn_wd=bn_wd, true_wd=true_wd)"
   ]
  },
  {
   "cell_type": "markdown",
   "metadata": {},
   "source": [
    "## Alternative 1: Running a pre-trained network"
   ]
  },
  {
   "cell_type": "markdown",
   "metadata": {},
   "source": [
    "Now we load the pre-trained network. "
   ]
  },
  {
   "cell_type": "code",
   "execution_count": 8,
   "metadata": {
    "scrolled": true
   },
   "outputs": [],
   "source": [
    "# commented code as pre-trained network not available\n",
    "# learn.load(\"4D_TLA_leading\")"
   ]
  },
  {
   "cell_type": "markdown",
   "metadata": {},
   "source": [
    "Then we evaluate the MSE on this network - it should be of the order of 0.001 or less if all has gone well...if it has not trained as well (note the pesky 0-mass peak above...) then it's going to be a bit higher."
   ]
  },
  {
   "cell_type": "code",
   "execution_count": 9,
   "metadata": {},
   "outputs": [],
   "source": [
    "# commented code as pre-trained network not available\n",
    "# learn.validate()"
   ]
  },
  {
   "cell_type": "markdown",
   "metadata": {},
   "source": [
    "## Alternative 2: Training a new network"
   ]
  },
  {
   "cell_type": "markdown",
   "metadata": {},
   "source": [
    "Instead of using a pre-trained network, an alternative is to train a new network and use that instead. "
   ]
  },
  {
   "cell_type": "markdown",
   "metadata": {},
   "source": [
    "First, we want to find the best learning rate. The learning rate is a hyper-paramater that sets how much the weights of the network will change each step with respect to the loss gradient.\n",
    "\n",
    "Then we plot the loss versus the learning rates. We're interested in finding a good order of magnitude of learning rate, so we plot with a log scale.\n",
    "\n",
    "A good value for the learning rates is then either:\n",
    "- one tenth of the minimum before the divergence\n",
    "- when the slope is the steepest"
   ]
  },
  {
   "cell_type": "code",
   "execution_count": 10,
   "metadata": {},
   "outputs": [
    {
     "name": "stdout",
     "output_type": "stream",
     "text": [
      "Learning rate with the minimum loss: 0.00831763744354248\n",
      "Learning rate with the steepest gradient: 0.0020892962347716093\n"
     ]
    },
    {
     "data": {
      "image/png": "[encoded data removed]",
      "text/plain": [
       "<Figure size 432x288 with 1 Axes>"
      ]
     },
     "metadata": {
      "needs_background": "light"
     },
     "output_type": "display_data"
    }
   ],
   "source": [
    "from fastai.callback import schedule\n",
    "\n",
    "lr_min, lr_steep = learn.lr_find()\n",
    "\n",
    "print('Learning rate with the minimum loss:', lr_min)\n",
    "print('Learning rate with the steepest gradient:', lr_steep)"
   ]
  },
  {
   "cell_type": "markdown",
   "metadata": {},
   "source": [
    "Now we want to run the training!\n",
    "\n",
    "User-chosen variables:\n",
    "- n_epoch: The number of epochs, i.e how many times the to run through all of the training data once (i.e the 1266046 entries, see cell 2)\n",
    "- lr: The learning rate. Either choose lr_min, lr_steep from above or set your own.\n"
   ]
  },
  {
   "cell_type": "code",
   "execution_count": 11,
   "metadata": {
    "scrolled": true
   },
   "outputs": [
    {
     "name": "stdout",
     "output_type": "stream",
     "text": [
      "[0, 2.5146679878234863, 0.5721486210823059, '00:00']\n",
      "[0, 2.5146679878234863, 0.5721486210823059, '00:00']\n",
      "[1, 0.7305527925491333, 0.27111953496932983, '00:00']\n",
      "[1, 0.7305527925491333, 0.27111953496932983, '00:00']\n",
      "[2, 0.37396299839019775, 0.26916590332984924, '00:00']\n",
      "[2, 0.37396299839019775, 0.26916590332984924, '00:00']\n",
      "[3, 0.29290276765823364, 0.2686619758605957, '00:00']\n",
      "[3, 0.29290276765823364, 0.2686619758605957, '00:00']\n",
      "[4, 0.2738720774650574, 0.272659033536911, '00:01']\n",
      "[4, 0.2738720774650574, 0.272659033536911, '00:01']\n",
      "[5, 0.25723978877067566, 0.21016834676265717, '00:01']\n",
      "[5, 0.25723978877067566, 0.21016834676265717, '00:01']\n",
      "[6, 0.20095863938331604, 0.16400592029094696, '00:00']\n",
      "[6, 0.20095863938331604, 0.16400592029094696, '00:00']\n",
      "[7, 0.12833154201507568, 0.06664692610502243, '00:01']\n",
      "[7, 0.12833154201507568, 0.06664692610502243, '00:01']\n",
      "[8, 0.049859121441841125, 0.016692133620381355, '00:00']\n",
      "[8, 0.049859121441841125, 0.016692133620381355, '00:00']\n",
      "[9, 0.024546904489398003, 0.011906874366104603, '00:00']\n",
      "[9, 0.024546904489398003, 0.011906874366104603, '00:00']\n",
      "[10, 0.0155479796230793, 0.0039040956180542707, '00:00']\n",
      "[10, 0.0155479796230793, 0.0039040956180542707, '00:00']\n",
      "[11, 0.012339678592979908, 0.008715841919183731, '00:00']\n",
      "[11, 0.012339678592979908, 0.008715841919183731, '00:00']\n",
      "[12, 0.012472386471927166, 0.0068993656896054745, '00:00']\n",
      "[12, 0.012472386471927166, 0.0068993656896054745, '00:00']\n",
      "[13, 0.017634466290473938, 0.006279220804572105, '00:00']\n",
      "[13, 0.017634466290473938, 0.006279220804572105, '00:00']\n",
      "[14, 0.013235832564532757, 0.00876106508076191, '00:00']\n",
      "[14, 0.013235832564532757, 0.00876106508076191, '00:00']\n",
      "[15, 0.013695799745619297, 0.016481533646583557, '00:00']\n",
      "[15, 0.013695799745619297, 0.016481533646583557, '00:00']\n",
      "[16, 0.014743687584996223, 0.01746240071952343, '00:00']\n",
      "[16, 0.014743687584996223, 0.01746240071952343, '00:00']\n",
      "[17, 0.01903235726058483, 0.01202249713242054, '00:00']\n",
      "[17, 0.01903235726058483, 0.01202249713242054, '00:00']\n",
      "[18, 0.017313562333583832, 0.01355301309376955, '00:00']\n",
      "[18, 0.017313562333583832, 0.01355301309376955, '00:00']\n",
      "[19, 0.013887183740735054, 0.015324221923947334, '00:00']\n",
      "[19, 0.013887183740735054, 0.015324221923947334, '00:00']\n",
      "[20, 0.019603939726948738, 0.03949478268623352, '00:00']\n",
      "[20, 0.019603939726948738, 0.03949478268623352, '00:00']\n",
      "[21, 0.017769336700439453, 0.0053452178835868835, '00:00']\n",
      "[21, 0.017769336700439453, 0.0053452178835868835, '00:00']\n",
      "[22, 0.014638801105320454, 0.005843047983944416, '00:00']\n",
      "[22, 0.014638801105320454, 0.005843047983944416, '00:00']\n",
      "[23, 0.017444441094994545, 0.010062862187623978, '00:00']\n",
      "[23, 0.017444441094994545, 0.010062862187623978, '00:00']\n",
      "[24, 0.019523289054632187, 0.019349979236721992, '00:00']\n",
      "[24, 0.019523289054632187, 0.019349979236721992, '00:00']\n",
      "[25, 0.014276043511927128, 0.012083932757377625, '00:00']\n",
      "[25, 0.014276043511927128, 0.012083932757377625, '00:00']\n",
      "[26, 0.010805599391460419, 0.00405966117978096, '00:00']\n",
      "[26, 0.010805599391460419, 0.00405966117978096, '00:00']\n",
      "[27, 0.012624346651136875, 0.011160049587488174, '00:00']\n",
      "[27, 0.012624346651136875, 0.011160049587488174, '00:00']\n",
      "[28, 0.012610063888132572, 0.0039839595556259155, '00:00']\n",
      "[28, 0.012610063888132572, 0.0039839595556259155, '00:00']\n",
      "[29, 0.011214456520974636, 0.008015867322683334, '00:00']\n",
      "[29, 0.011214456520974636, 0.008015867322683334, '00:00']\n",
      "[30, 0.01387836690992117, 0.09219721704721451, '00:00']\n",
      "[30, 0.01387836690992117, 0.09219721704721451, '00:00']\n",
      "[31, 0.013911690562963486, 0.004089368507266045, '00:00']\n",
      "[31, 0.013911690562963486, 0.004089368507266045, '00:00']\n",
      "[32, 0.008690276183187962, 0.008593184873461723, '00:00']\n",
      "[32, 0.008690276183187962, 0.008593184873461723, '00:00']\n",
      "[33, 0.008449922315776348, 0.007951679639518261, '00:00']\n",
      "[33, 0.008449922315776348, 0.007951679639518261, '00:00']\n",
      "[34, 0.008122973144054413, 0.0035054779145866632, '00:00']\n",
      "[34, 0.008122973144054413, 0.0035054779145866632, '00:00']\n",
      "[35, 0.007674734573811293, 0.0017419306095689535, '00:00']\n",
      "[35, 0.007674734573811293, 0.0017419306095689535, '00:00']\n",
      "[36, 0.008826582692563534, 0.017493318766355515, '00:00']\n",
      "[36, 0.008826582692563534, 0.017493318766355515, '00:00']\n",
      "[37, 0.006780165247619152, 0.0016560746589675546, '00:00']\n",
      "[37, 0.006780165247619152, 0.0016560746589675546, '00:00']\n",
      "[38, 0.006300793029367924, 0.0027995517011731863, '00:00']\n",
      "[38, 0.006300793029367924, 0.0027995517011731863, '00:00']\n",
      "[39, 0.006213479675352573, 0.0026079637464135885, '00:00']\n",
      "[39, 0.006213479675352573, 0.0026079637464135885, '00:00']\n",
      "[40, 0.004857731983065605, 0.006066521629691124, '00:00']\n",
      "[40, 0.004857731983065605, 0.006066521629691124, '00:00']\n",
      "[41, 0.006551819387823343, 0.0015957822324708104, '00:00']\n",
      "[41, 0.006551819387823343, 0.0015957822324708104, '00:00']\n",
      "[42, 0.004383080173283815, 0.0034101170022040606, '00:00']\n",
      "[42, 0.004383080173283815, 0.0034101170022040606, '00:00']\n",
      "[43, 0.004189094062894583, 0.003248160472139716, '00:00']\n",
      "[43, 0.004189094062894583, 0.003248160472139716, '00:00']\n",
      "[44, 0.004030143842101097, 0.0007981530507095158, '00:00']\n",
      "[44, 0.004030143842101097, 0.0007981530507095158, '00:00']\n",
      "[45, 0.0032579198013991117, 0.005381937604397535, '00:00']\n",
      "[45, 0.0032579198013991117, 0.005381937604397535, '00:00']\n",
      "[46, 0.003544699866324663, 0.004268312361091375, '00:00']\n",
      "[46, 0.003544699866324663, 0.004268312361091375, '00:00']\n",
      "[47, 0.003362205345183611, 0.0009357738308608532, '00:00']\n",
      "[47, 0.003362205345183611, 0.0009357738308608532, '00:00']\n",
      "[48, 0.004576016683131456, 0.0017734033754095435, '00:00']\n",
      "[48, 0.004576016683131456, 0.0017734033754095435, '00:00']\n",
      "[49, 0.00283972080796957, 0.0008509561885148287, '00:00']\n",
      "[49, 0.00283972080796957, 0.0008509561885148287, '00:00']\n",
      "[50, 0.0036653694696724415, 0.003990473225712776, '00:00']\n",
      "[50, 0.0036653694696724415, 0.003990473225712776, '00:00']\n",
      "[51, 0.0025220175739377737, 0.0034619716461747885, '00:00']\n",
      "[51, 0.0025220175739377737, 0.0034619716461747885, '00:00']\n",
      "[52, 0.0021463886369019747, 0.0018966429634019732, '00:00']\n",
      "[52, 0.0021463886369019747, 0.0018966429634019732, '00:00']\n",
      "[53, 0.0017608583439141512, 0.0006749585154466331, '00:00']\n",
      "[53, 0.0017608583439141512, 0.0006749585154466331, '00:00']\n",
      "[54, 0.0015258516650646925, 0.0004370897077023983, '00:00']\n",
      "[54, 0.0015258516650646925, 0.0004370897077023983, '00:00']\n",
      "[55, 0.0015359706012532115, 0.0021808806341141462, '00:00']\n",
      "[55, 0.0015359706012532115, 0.0021808806341141462, '00:00']\n",
      "[56, 0.001686585950665176, 0.0006631656433455646, '00:00']\n",
      "[56, 0.001686585950665176, 0.0006631656433455646, '00:00']\n",
      "[57, 0.0011126018362119794, 0.0010584830306470394, '00:00']\n",
      "[57, 0.0011126018362119794, 0.0010584830306470394, '00:00']\n",
      "[58, 0.0010669095208868384, 0.0009100959287025034, '00:00']\n",
      "[58, 0.0010669095208868384, 0.0009100959287025034, '00:00']\n",
      "[59, 0.0008276993175968528, 0.00042801679228432477, '00:00']\n",
      "[59, 0.0008276993175968528, 0.00042801679228432477, '00:00']\n",
      "[60, 0.0008400729857385159, 0.0017121165292337537, '00:00']\n",
      "[60, 0.0008400729857385159, 0.0017121165292337537, '00:00']\n",
      "[61, 0.0007980350637808442, 0.000876951904501766, '00:00']\n",
      "[61, 0.0007980350637808442, 0.000876951904501766, '00:00']\n",
      "[62, 0.000600560859311372, 0.00034719868563115597, '00:00']\n",
      "[62, 0.000600560859311372, 0.00034719868563115597, '00:00']\n",
      "[63, 0.0010300007415935397, 0.0006748189334757626, '00:00']\n",
      "[63, 0.0010300007415935397, 0.0006748189334757626, '00:00']\n",
      "[64, 0.0004129652807023376, 0.00023061315005179495, '00:00']\n",
      "[64, 0.0004129652807023376, 0.00023061315005179495, '00:00']\n",
      "[65, 0.0003960087487939745, 0.0001682007423369214, '00:00']\n",
      "[65, 0.0003960087487939745, 0.0001682007423369214, '00:00']\n",
      "[66, 0.0004240419075358659, 0.00034801664878614247, '00:00']\n",
      "[66, 0.0004240419075358659, 0.00034801664878614247, '00:00']\n",
      "[67, 0.000292641983833164, 0.00024582460173405707, '00:00']\n",
      "[67, 0.000292641983833164, 0.00024582460173405707, '00:00']\n",
      "[68, 0.0003343576972838491, 0.0002098948461934924, '00:00']\n",
      "[68, 0.0003343576972838491, 0.0002098948461934924, '00:00']\n",
      "[69, 0.00024365191347897053, 0.000307210924802348, '00:00']\n",
      "[69, 0.00024365191347897053, 0.000307210924802348, '00:00']\n",
      "[70, 0.0001957043568836525, 0.00013669156760443002, '00:00']\n",
      "[70, 0.0001957043568836525, 0.00013669156760443002, '00:00']\n"
     ]
    },
    {
     "name": "stdout",
     "output_type": "stream",
     "text": [
      "[71, 0.00017730845138430595, 6.855272658867761e-05, '00:00']\n",
      "[71, 0.00017730845138430595, 6.855272658867761e-05, '00:00']\n",
      "[72, 0.00016252872592303902, 9.820587001740932e-05, '00:00']\n",
      "[72, 0.00016252872592303902, 9.820587001740932e-05, '00:00']\n",
      "[73, 0.00012285602861084044, 7.54903448978439e-05, '00:00']\n",
      "[73, 0.00012285602861084044, 7.54903448978439e-05, '00:00']\n",
      "[74, 0.00014638080028817058, 9.046393824974075e-05, '00:00']\n",
      "[74, 0.00014638080028817058, 9.046393824974075e-05, '00:00']\n",
      "[75, 9.582239727023989e-05, 6.268782453844324e-05, '00:00']\n",
      "[75, 9.582239727023989e-05, 6.268782453844324e-05, '00:00']\n",
      "[76, 9.813462384045124e-05, 4.537090353551321e-05, '00:00']\n",
      "[76, 9.813462384045124e-05, 4.537090353551321e-05, '00:00']\n",
      "[77, 5.9987945860484615e-05, 5.031336331740022e-05, '00:00']\n",
      "[77, 5.9987945860484615e-05, 5.031336331740022e-05, '00:00']\n",
      "[78, 0.00010121204832103103, 6.397359538823366e-05, '00:00']\n",
      "[78, 0.00010121204832103103, 6.397359538823366e-05, '00:00']\n",
      "[79, 6.272675091167912e-05, 3.250578083680011e-05, '00:00']\n",
      "[79, 6.272675091167912e-05, 3.250578083680011e-05, '00:00']\n",
      "[80, 3.666006159619428e-05, 2.4051216314546764e-05, '00:00']\n",
      "[80, 3.666006159619428e-05, 2.4051216314546764e-05, '00:00']\n",
      "[81, 3.151738201268017e-05, 2.587789458630141e-05, '00:00']\n",
      "[81, 3.151738201268017e-05, 2.587789458630141e-05, '00:00']\n",
      "[82, 2.6765035727294162e-05, 2.2250425899983384e-05, '00:00']\n",
      "[82, 2.6765035727294162e-05, 2.2250425899983384e-05, '00:00']\n",
      "[83, 2.4565213607274927e-05, 2.4149627279257402e-05, '00:00']\n",
      "[83, 2.4565213607274927e-05, 2.4149627279257402e-05, '00:00']\n",
      "[84, 2.1634263248415664e-05, 1.967597745533567e-05, '00:00']\n",
      "[84, 2.1634263248415664e-05, 1.967597745533567e-05, '00:00']\n",
      "[85, 2.325592140550725e-05, 2.1777412257506512e-05, '00:00']\n",
      "[85, 2.325592140550725e-05, 2.1777412257506512e-05, '00:00']\n",
      "[86, 1.9041277482756414e-05, 1.4543063116434496e-05, '00:00']\n",
      "[86, 1.9041277482756414e-05, 1.4543063116434496e-05, '00:00']\n",
      "[87, 1.6967725969152525e-05, 1.3947712432127446e-05, '00:00']\n",
      "[87, 1.6967725969152525e-05, 1.3947712432127446e-05, '00:00']\n",
      "[88, 1.4294689208327327e-05, 1.3006166227569338e-05, '00:01']\n",
      "[88, 1.4294689208327327e-05, 1.3006166227569338e-05, '00:01']\n",
      "[89, 1.4114506484474987e-05, 1.2364167560008354e-05, '00:01']\n",
      "[89, 1.4114506484474987e-05, 1.2364167560008354e-05, '00:01']\n",
      "[90, 1.3149136066203937e-05, 1.2634565791813657e-05, '00:00']\n",
      "[90, 1.3149136066203937e-05, 1.2634565791813657e-05, '00:00']\n",
      "[91, 1.1802011613326613e-05, 1.1253246157139074e-05, '00:00']\n",
      "[91, 1.1802011613326613e-05, 1.1253246157139074e-05, '00:00']\n",
      "[92, 1.0983747415593825e-05, 1.1135909517179243e-05, '00:00']\n",
      "[92, 1.0983747415593825e-05, 1.1135909517179243e-05, '00:00']\n",
      "[93, 1.0667115930118598e-05, 1.1003281542798504e-05, '00:00']\n",
      "[93, 1.0667115930118598e-05, 1.1003281542798504e-05, '00:00']\n",
      "[94, 1.013259134197142e-05, 1.0104201464855578e-05, '00:00']\n",
      "[94, 1.013259134197142e-05, 1.0104201464855578e-05, '00:00']\n",
      "[95, 9.865747415460646e-06, 9.917255738400854e-06, '00:00']\n",
      "[95, 9.865747415460646e-06, 9.917255738400854e-06, '00:00']\n",
      "[96, 9.640553798817564e-06, 1.018681450659642e-05, '00:00']\n",
      "[96, 9.640553798817564e-06, 1.018681450659642e-05, '00:00']\n",
      "[97, 9.42150472837966e-06, 9.590926310920622e-06, '00:00']\n",
      "[97, 9.42150472837966e-06, 9.590926310920622e-06, '00:00']\n",
      "[98, 9.153449354926124e-06, 9.537310688756406e-06, '00:00']\n",
      "[98, 9.153449354926124e-06, 9.537310688756406e-06, '00:00']\n",
      "[99, 9.180229426419828e-06, 9.488936484558508e-06, '00:00']\n",
      "[99, 9.180229426419828e-06, 9.488936484558508e-06, '00:00']\n",
      "Training took 87.541426011 seconds\n"
     ]
    }
   ],
   "source": [
    "import time\n",
    "\n",
    "start = time.perf_counter() # Starts timer\n",
    "# recreate learner object with lr_min\n",
    "learn = learner.Learner(dls, model=model, wd=wd, loss_func=loss_func, cbs=recorder, lr=lr_min)\n",
    "learn.fit_one_cycle(n_epoch=100)\n",
    "# learn.fit_one_cycle(n_epoch=100, lr=lr_min)\n",
    "end = time.perf_counter() # Ends timer\n",
    "delta_t = end - start\n",
    "print('Training took', delta_t, 'seconds')"
   ]
  },
  {
   "cell_type": "markdown",
   "metadata": {},
   "source": [
    "Then we plot the loss as a function of batches and epochs to check if we reach a plateau."
   ]
  },
  {
   "cell_type": "code",
   "execution_count": 12,
   "metadata": {},
   "outputs": [
    {
     "data": {
      "image/png": "[encoded data removed]",
      "text/plain": [
       "<Figure size 432x288 with 1 Axes>"
      ]
     },
     "metadata": {
      "needs_background": "light"
     },
     "output_type": "display_data"
    }
   ],
   "source": [
    "recorder.plot_loss()"
   ]
  },
  {
   "cell_type": "markdown",
   "metadata": {},
   "source": [
    "Then we evaluate the MSE on this network - it should be of the order of 0.001 or less if all has gone well...if it has not trained as well (note the pesky 0-mass peak above...) then it's going to be a bit higher."
   ]
  },
  {
   "cell_type": "code",
   "execution_count": 13,
   "metadata": {},
   "outputs": [
    {
     "data": {
      "text/plain": [
       "(#1) [9.488936484558508e-06]"
      ]
     },
     "execution_count": 13,
     "metadata": {},
     "output_type": "execute_result"
    }
   ],
   "source": [
    "learn.validate()"
   ]
  },
  {
   "cell_type": "markdown",
   "metadata": {},
   "source": [
    "Let's plot all of this, with ratios (thanks to code by Erik Wallin)"
   ]
  },
  {
   "cell_type": "markdown",
   "metadata": {},
   "source": [
    "## Plotting the outputs of the network"
   ]
  },
  {
   "cell_type": "markdown",
   "metadata": {},
   "source": [
    "Lazy-save of our output files (they'll also be on screen)"
   ]
  },
  {
   "cell_type": "code",
   "execution_count": 14,
   "metadata": {},
   "outputs": [],
   "source": [
    "import os\n",
    "save_dir = \"plotOutput\"\n",
    "if not os.path.exists(save_dir):\n",
    "    os.makedirs(save_dir)"
   ]
  },
  {
   "cell_type": "markdown",
   "metadata": {},
   "source": [
    "A function in case we want to un-normalize and get back to physical quantities..."
   ]
  },
  {
   "cell_type": "code",
   "execution_count": 15,
   "metadata": {},
   "outputs": [],
   "source": [
    "def custom_unnormalize(df):\n",
    "    df['eta'] = df['eta'] * 5\n",
    "    df['phi'] = df['phi'] * 3\n",
    "    df['E'] = 10**df['E']\n",
    "#     df['m'] = 10**df['m'] # replace m with E\n",
    "    df['pt'] = 10**(df['pt'])\n",
    "    return df"
   ]
  },
  {
   "cell_type": "markdown",
   "metadata": {},
   "source": [
    "Make the histograms from the dataset...\n",
    "\n",
    "- Histograms depicting normalized data\n",
    "- Histograms depicting unnormalized data"
   ]
  },
  {
   "cell_type": "markdown",
   "metadata": {},
   "source": [
    "Histograms depicting normalized data"
   ]
  },
  {
   "cell_type": "code",
   "execution_count": 16,
   "metadata": {},
   "outputs": [
    {
     "data": {
      "image/png": "[encoded data removed]",
      "text/plain": [
       "<Figure size 432x288 with 1 Axes>"
      ]
     },
     "metadata": {
      "needs_background": "light"
     },
     "output_type": "display_data"
    },
    {
     "data": {
      "image/png": "[encoded data removed]",
      "text/plain": [
       "<Figure size 432x288 with 1 Axes>"
      ]
     },
     "metadata": {
      "needs_background": "light"
     },
     "output_type": "display_data"
    },
    {
     "data": {
      "image/png": "[encoded data removed]",
      "text/plain": [
       "<Figure size 432x288 with 1 Axes>"
      ]
     },
     "metadata": {
      "needs_background": "light"
     },
     "output_type": "display_data"
    },
    {
     "data": {
      "image/png": "[encoded data removed]",
      "text/plain": [
       "<Figure size 432x288 with 1 Axes>"
      ]
     },
     "metadata": {
      "needs_background": "light"
     },
     "output_type": "display_data"
    }
   ],
   "source": [
    "import numpy as np\n",
    "\n",
    "plt.close('all')\n",
    "unit_list = ['[GeV]', '[rad]', '[rad]', '[GeV]']\n",
    "variable_list = [ r'$E$', r'$pt$', r'$\\eta$', r'$\\phi$']\n",
    "line_style = ['--', '-']\n",
    "colors = ['orange', 'c']\n",
    "markers = ['*', 's']\n",
    "\n",
    "model.to('cpu')\n",
    "\n",
    "save = False # Option to save figure\n",
    "\n",
    "# Histograms\n",
    "idxs = (0, 100000)  # Choose events to compare\n",
    "data = torch.tensor(test[idxs[0]:idxs[1]].values, dtype=torch.float)\n",
    "#data = torch.tensor(test[idxs[0]:idxs[1]].values, dtype=torch.float).double()\n",
    "pred = model(data)\n",
    "pred = pred.detach().numpy()\n",
    "data = data.detach().numpy()\n",
    "data_df = pd.DataFrame(data, columns=test.columns)\n",
    "pred_df = pd.DataFrame(pred, columns=test.columns)  \n",
    "    \n",
    "alph = 0.8\n",
    "n_bins = 200\n",
    "for kk in np.arange(4):\n",
    "    plt.figure()\n",
    "    n_hist_data, bin_edges, _ = plt.hist(data[:, kk], color=colors[1], label='Input', alpha=1, bins=n_bins)\n",
    "    n_hist_pred, _, _ = plt.hist(pred[:, kk], color=colors[0], label='Output', alpha=alph, bins=bin_edges)\n",
    "    plt.suptitle(test.columns[kk])\n",
    "    plt.xlabel(test.columns[kk])\n",
    "    plt.ylabel('Number of events')\n",
    "    # ms.sciy()\n",
    "    plt.yscale('log')\n",
    "    if save:\n",
    "        plt.savefig(os.path.join(save_dir,test.columns[kk]+'.png'))\n",
    "    plt.legend()"
   ]
  },
  {
   "cell_type": "markdown",
   "metadata": {},
   "source": [
    "Histograms depicting unnormalized data"
   ]
  },
  {
   "cell_type": "code",
   "execution_count": 17,
   "metadata": {},
   "outputs": [
    {
     "data": {
      "image/png": "[encoded data removed]",
      "text/plain": [
       "<Figure size 432x288 with 1 Axes>"
      ]
     },
     "metadata": {
      "needs_background": "light"
     },
     "output_type": "display_data"
    },
    {
     "data": {
      "image/png": "[encoded data removed]",
      "text/plain": [
       "<Figure size 432x288 with 1 Axes>"
      ]
     },
     "metadata": {
      "needs_background": "light"
     },
     "output_type": "display_data"
    },
    {
     "data": {
      "image/png": "[encoded data removed]",
      "text/plain": [
       "<Figure size 432x288 with 1 Axes>"
      ]
     },
     "metadata": {
      "needs_background": "light"
     },
     "output_type": "display_data"
    },
    {
     "data": {
      "image/png": "[encoded data removed]",
      "text/plain": [
       "<Figure size 432x288 with 1 Axes>"
      ]
     },
     "metadata": {
      "needs_background": "light"
     },
     "output_type": "display_data"
    }
   ],
   "source": [
    "import numpy as np\n",
    "\n",
    "plt.close('all')\n",
    "unit_list = ['[GeV]', '[rad]', '[rad]', '[GeV]']\n",
    "variable_list = [ r'$E$', r'$pt$', r'$\\eta$', r'$\\phi$']\n",
    "line_style = ['--', '-']\n",
    "colors = ['orange', 'c']\n",
    "markers = ['*', 's']\n",
    "\n",
    "model.to('cpu')\n",
    "\n",
    "save = False # Option to save figure\n",
    "\n",
    "# Histograms\n",
    "idxs = (0, 100000)  # Choose events to compare\n",
    "data = torch.tensor(test[idxs[0]:idxs[1]].values, dtype=torch.float)\n",
    "#data = torch.tensor(test[idxs[0]:idxs[1]].values, dtype=torch.float).double()\n",
    "pred = model(data)\n",
    "pred = pred.detach().numpy()\n",
    "data = data.detach().numpy()\n",
    "data_df = pd.DataFrame(data, columns=test.columns)\n",
    "pred_df = pd.DataFrame(pred, columns=test.columns)\n",
    "\n",
    "unnormalized_data_df = custom_unnormalize(data_df)\n",
    "unnormalized_pred_df = custom_unnormalize(pred_df)    \n",
    "    \n",
    "alph = 0.8\n",
    "n_bins = 200\n",
    "for kk in np.arange(4):\n",
    "    plt.figure()\n",
    "    n_hist_data, bin_edges, _ = plt.hist(data[:, kk], color=colors[1], label='Input', alpha=1, bins=n_bins)\n",
    "    n_hist_pred, _, _ = plt.hist(pred[:, kk], color=colors[0], label='Output', alpha=alph, bins=bin_edges)\n",
    "    plt.suptitle(test.columns[kk])\n",
    "    plt.xlabel(test.columns[kk])\n",
    "    plt.ylabel('Number of events')\n",
    "    # ms.sciy()\n",
    "    plt.yscale('log')\n",
    "    if save:\n",
    "        plt.savefig(os.path.join(save_dir,test.columns[kk]+'.png'))\n",
    "    plt.legend()"
   ]
  },
  {
   "cell_type": "code",
   "execution_count": 18,
   "metadata": {},
   "outputs": [],
   "source": [
    "def getRatio(bin1,bin2):\n",
    "    bins = []\n",
    "    for b1,b2 in zip(bin1,bin2):\n",
    "        if b1==0 and b2==0:\n",
    "            bins.append(0.)\n",
    "        elif b2==0:\n",
    "            bins.append(None)\n",
    "        else:\n",
    "            bins.append((float(b2)-float(b1))/b1)\n",
    "    return bins   \n",
    "\n",
    "rat = getRatio(n_hist_data,n_hist_pred)\n",
    "# print(rat)"
   ]
  }
 ],
 "metadata": {
  "kernelspec": {
   "display_name": "Python [conda env:hcf]",
   "language": "python",
   "name": "conda-env-hcf-py"
  },
  "language_info": {
   "codemirror_mode": {
    "name": "ipython",
    "version": 3
   },
   "file_extension": ".py",
   "mimetype": "text/x-python",
   "name": "python",
   "nbconvert_exporter": "python",
   "pygments_lexer": "ipython3",
   "version": "3.8.8"
  }
 },
 "nbformat": 4,
 "nbformat_minor": 4
}
